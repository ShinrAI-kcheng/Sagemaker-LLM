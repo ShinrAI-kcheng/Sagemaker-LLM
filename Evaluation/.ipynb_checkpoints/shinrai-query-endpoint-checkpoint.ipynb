{
 "cells": [
  {
   "cell_type": "code",
   "execution_count": null,
   "id": "400cab55-6e97-45c6-98bb-7513b9def634",
   "metadata": {},
   "outputs": [],
   "source": [
    "model_id = \"huggingface-text2text-flan-t5-xl\"\n",
    "endpoint_name = f\"KC-ShinrAI-{model_id}\""
   ]
  }
 ],
 "metadata": {
  "kernelspec": {
   "display_name": "conda_amazonei_pytorch_latest_p37",
   "language": "python",
   "name": "conda_amazonei_pytorch_latest_p37"
  },
  "language_info": {
   "codemirror_mode": {
    "name": "ipython",
    "version": 3
   },
   "file_extension": ".py",
   "mimetype": "text/x-python",
   "name": "python",
   "nbconvert_exporter": "python",
   "pygments_lexer": "ipython3",
   "version": "3.7.10"
  }
 },
 "nbformat": 4,
 "nbformat_minor": 5
}
