{
 "cells": [
  {
   "cell_type": "code",
   "execution_count": null,
   "id": "103efe94-0ec2-4f0b-bbf2-0818768e5c1c",
   "metadata": {},
   "outputs": [],
   "source": [
    "# Taken from sagemaker template text2text-flan-xl"
   ]
  },
  {
   "cell_type": "markdown",
   "id": "d8a7e3b2-8c1b-4694-bc1c-cddfd9f3e12c",
   "metadata": {
    "tags": []
   },
   "source": [
    "### 5. Advanced features: How to use various advanced parameters to control the generated text\n",
    "\n",
    "***\n",
    "This model also supports many advanced parameters while performing inference. They include:\n",
    "\n",
    "* **max_length:** Model generates text until the output length (which includes the input context length) reaches `max_length`. If specified, it must be a positive integer.\n",
    "* **num_return_sequences:** Number of output sequences returned. If specified, it must be a positive integer.\n",
    "* **num_beams:** Number of beams used in the greedy search. If specified, it must be integer greater than or equal to `num_return_sequences`.\n",
    "* **no_repeat_ngram_size:** Model ensures that a sequence of words of `no_repeat_ngram_size` is not repeated in the output sequence. If specified, it must be a positive integer greater than 1.\n",
    "* **temperature:** Controls the randomness in the output. Higher temperature results in output sequence with low-probability words and lower temperature results in output sequence with high-probability words. If `temperature` -> 0, it results in greedy decoding. If specified, it must be a positive float.\n",
    "* **early_stopping:** If True, text generation is finished when all beam hypotheses reach the end of sentence token. If specified, it must be boolean.\n",
    "* **do_sample:** If True, sample the next word as per the likelihood. If specified, it must be boolean.\n",
    "* **top_k:** In each step of text generation, sample from only the `top_k` most likely words. If specified, it must be a positive integer.\n",
    "* **top_p:** In each step of text generation, sample from the smallest possible set of words with cumulative probability `top_p`. If specified, it must be a float between 0 and 1.\n",
    "* **seed:** Fix the randomized state for reproducibility. If specified, it must be an integer.\n",
    "\n",
    "We may specify any subset of the parameters mentioned above while invoking an endpoint. Next, we show an example of how to invoke endpoint with these arguments\n",
    "\n",
    "***"
   ]
  },
  {
   "cell_type": "code",
   "execution_count": 14,
   "id": "237db397-28e5-4480-aeec-45bb792cfaae",
   "metadata": {
    "tags": []
   },
   "outputs": [
    {
     "name": "stdout",
     "output_type": "stream",
     "text": [
      "['Using a pizza stone, place the dough on the stone. Spread the pizza sauce on the dough. Top with cheese and toppings of your choice. Bake in the oven at 450 degrees for 15 minutes.', 'Spread pizza sauce on a pizza pan. Sprinkle with cheese. Bake at 450 degrees for 20 minutes.', 'Step 1: Make a pizza. Step 2: Spread pizza sauce on the pizza. Step 3: Top with cheese. Step 4: Bake in oven. Step 5: Enjoy!']\n"
     ]
    }
   ],
   "source": [
    "# Input must be a json\n",
    "payload = {\n",
    "    \"text_inputs\": \"Tell me the steps to make a pizza\",\n",
    "    \"max_length\": 50,\n",
    "    \"num_return_sequences\": 3,\n",
    "    \"top_k\": 50,\n",
    "    \"top_p\": 0.95,\n",
    "    \"do_sample\": True,\n",
    "}\n",
    "\n",
    "\n",
    "def query_endpoint_with_json_payload(encoded_json, endpoint_name):\n",
    "    client = boto3.client(\"runtime.sagemaker\")\n",
    "    response = client.invoke_endpoint(\n",
    "        EndpointName=endpoint_name, ContentType=\"application/json\", Body=encoded_json\n",
    "    )\n",
    "    return response\n",
    "\n",
    "\n",
    "query_response = query_endpoint_with_json_payload(\n",
    "    json.dumps(payload).encode(\"utf-8\"), endpoint_name=endpoint_name\n",
    ")\n",
    "\n",
    "\n",
    "def parse_response_multiple_texts(query_response):\n",
    "    model_predictions = json.loads(query_response[\"Body\"].read())\n",
    "    generated_text = model_predictions[\"generated_texts\"]\n",
    "    return generated_text\n",
    "\n",
    "\n",
    "generated_texts = parse_response_multiple_texts(query_response)\n",
    "print(generated_texts)"
   ]
  },
  {
   "cell_type": "markdown",
   "id": "b7214cdb-86c8-4122-b3d4-c35423c676b8",
   "metadata": {},
   "source": [
    "### 6. Advanced features: How to use prompts engineering to solve different tasks\n",
    "\n",
    "Below we demonstrate solving 5 key tasks with Flan T5 model. The tasks are: **text summarization**, **common sense reasoning / question answering**, **sentence classification**, **translation**, **pronoun resolution**.\n",
    "\n",
    "\n",
    "<font color='red'>Note </font>. **The notebook in the following sections are particularly designed for Flan T5 models (small, base, large, xl). There are other models like T5-one-line-summary which are designed for text summarization in particular. In that case, such models cannot perform all the following tasks.**"
   ]
  },
  {
   "cell_type": "markdown",
   "id": "3b93d815-16b1-42ad-a8ba-50b4a2391ce6",
   "metadata": {},
   "source": [
    "### 6.1. Summarization"
   ]
  },
  {
   "cell_type": "markdown",
   "id": "3250431f-84d5-4c8b-a9b8-f450b471f800",
   "metadata": {},
   "source": [
    "Define the text article you want to summarize."
   ]
  },
  {
   "cell_type": "code",
   "execution_count": 15,
   "id": "3b69ca69-2132-4265-b2f6-acb44f6b97a6",
   "metadata": {
    "tags": []
   },
   "outputs": [],
   "source": [
    "text = \"\"\"Amazon Comprehend uses natural language processing (NLP) to extract insights about the content of documents. It develops insights by recognizing the entities, key phrases, language, sentiments, and other common elements in a document. Use Amazon Comprehend to create new products based on understanding the structure of documents. For example, using Amazon Comprehend you can search social networking feeds for mentions of products or scan an entire document repository for key phrases. \n",
    "You can access Amazon Comprehend document analysis capabilities using the Amazon Comprehend console or using the Amazon Comprehend APIs. You can run real-time analysis for small workloads or you can start asynchronous analysis jobs for large document sets. You can use the pre-trained models that Amazon Comprehend provides, or you can train your own custom models for classification and entity recognition. \n",
    "All of the Amazon Comprehend features accept UTF-8 text documents as the input. In addition, custom classification and custom entity recognition accept image files, PDF files, and Word files as input. \n",
    "Amazon Comprehend can examine and analyze documents in a variety of languages, depending on the specific feature. For more information, see Languages supported in Amazon Comprehend. Amazon Comprehend's Dominant language capability can examine documents and determine the dominant language for a far wider selection of languages.\"\"\""
   ]
  },
  {
   "cell_type": "code",
   "execution_count": 16,
   "id": "d5032f65-ae14-4330-be84-1aee5b74eb1d",
   "metadata": {
    "tags": []
   },
   "outputs": [
    {
     "name": "stdout",
     "output_type": "stream",
     "text": [
      "\u001b[1mNumber of return sequences are set as 3\u001b[0m\n",
      "\n",
      "\u001b[1m For prompt: 'Briefly summarize this sentence: {text}'\u001b[0m\n",
      "\n",
      "\u001b[1m The 3 summarized results are\u001b[0m:\n",
      "\n",
      "\u001b[1mResult 0\u001b[0m: Understand how Amazon Comprehend works. Learn how to use Amazon Comprehend.\n",
      "\n",
      "\u001b[1mResult 1\u001b[0m: Learn about Amazon Comprehend. Use Amazon Comprehend to analyze documents. Use Amazon Comprehend to analyze documents in a variety of languages.\n",
      "\n",
      "\u001b[1mResult 2\u001b[0m: Understand how Amazon Comprehend works. Use Amazon Comprehend to analyze documents. Use Amazon Comprehend to analyze documents in a variety of languages.\n",
      "\n",
      "\u001b[1m For prompt: 'Write a short summary for this text: {text}'\u001b[0m\n",
      "\n",
      "\u001b[1m The 3 summarized results are\u001b[0m:\n",
      "\n",
      "\u001b[1mResult 0\u001b[0m: Amazon Comprehend uses natural language processing (NLP) to extract insights about the content of documents. Use Amazon Comprehend to create new products based on understanding the structure of documents. Access Amazon Comprehend document analysis\n",
      "\n",
      "\u001b[1mResult 1\u001b[0m: Amazon Comprehend is a natural language processing (NLP) tool that extracts insights about the content of documents. Use Amazon Comprehend to create new products based on understanding the structure of documents.\n",
      "\n",
      "\u001b[1mResult 2\u001b[0m: Amazon Comprehend is a natural language processing (NLP) tool that analyzes documents.\n",
      "\n",
      "\u001b[1m For prompt: 'Generate a short summary this sentence:\n",
      "{text}'\u001b[0m\n",
      "\n",
      "\u001b[1m The 3 summarized results are\u001b[0m:\n",
      "\n",
      "\u001b[1mResult 0\u001b[0m: Amazon Comprehend is a natural language processing (NLP) platform that helps you analyze and understand documents.\n",
      "\n",
      "\u001b[1mResult 1\u001b[0m: Amazon Comprehend analyzes documents and extracts insights about the content.\n",
      "\n",
      "\u001b[1mResult 2\u001b[0m: Amazon Comprehend is a machine learning platform that analyzes documents.\n",
      "\n",
      "\u001b[1m For prompt: '{text}\n",
      "\n",
      "Write a brief summary in a sentence or less'\u001b[0m\n",
      "\n",
      "\u001b[1m The 3 summarized results are\u001b[0m:\n",
      "\n",
      "\u001b[1mResult 0\u001b[0m: Amazon Comprehend is a text analysis service that uses NLP to extract insights about the content of documents. You can use Amazon Comprehend to create new products based on understanding the structure of documents.\n",
      "\n",
      "\u001b[1mResult 1\u001b[0m: Amazon Comprehend uses natural language processing (NLP) to extract insights about the content of documents. It develops insights by recognizing the entities, key phrases, language, sentiments, and other common elements in a document.\n",
      "\n",
      "\u001b[1mResult 2\u001b[0m: Amazon Comprehend uses natural language processing (NLP) to extract insights about the content of documents.\n",
      "\n",
      "\u001b[1m For prompt: '{text}\n",
      "Summarize the aforementioned text in a single phrase.'\u001b[0m\n",
      "\n",
      "\u001b[1m The 3 summarized results are\u001b[0m:\n",
      "\n",
      "\u001b[1mResult 0\u001b[0m: Amazon Comprehend uses natural language processing to extract insights about the content of documents. Use Amazon Comprehend to create new products based on understanding the structure of documents. Access Amazon Comprehend document analysis capabilities using the Amazon\n",
      "\n",
      "\u001b[1mResult 1\u001b[0m: Amazon Comprehend uses natural language processing to extract insights about the content of documents. Use Amazon Comprehend to create new products based on understanding the structure of documents. Access Amazon Comprehend document analysis capabilities using the Amazon\n",
      "\n",
      "\u001b[1mResult 2\u001b[0m: Use Amazon Comprehend to analyze documents.\n",
      "\n",
      "\u001b[1m For prompt: '{text}\n",
      "Can you generate a short summary of the above paragraph?'\u001b[0m\n",
      "\n",
      "\u001b[1m The 3 summarized results are\u001b[0m:\n",
      "\n",
      "\u001b[1mResult 0\u001b[0m: Amazon Comprehend uses natural language processing (NLP) to extract insights about the content of documents. It develops insights by recognizing the entities, key phrases, language, sentiments, and other common elements in a document.\n",
      "\n",
      "\u001b[1mResult 1\u001b[0m: Amazon Comprehend uses natural language processing (NLP) to extract insights about the content of documents.\n",
      "\n",
      "\u001b[1mResult 2\u001b[0m: Amazon Comprehend is a text analysis service that uses natural language processing (NLP) to extract insights about the content of documents. Use Amazon Comprehend to create new products based on understanding the structure of documents.\n",
      "\n",
      "\u001b[1m For prompt: 'Write a sentence based on this summary: {text}'\u001b[0m\n",
      "\n",
      "\u001b[1m The 3 summarized results are\u001b[0m:\n",
      "\n",
      "\u001b[1mResult 0\u001b[0m: Learn how Amazon Comprehend works. Use Amazon Comprehend to analyze documents.\n",
      "\n",
      "\u001b[1mResult 1\u001b[0m: Understand how Amazon Comprehend works. Understand how Amazon Comprehend works. Access Amazon Comprehend using the Amazon Comprehend console or APIs. Access Amazon Comprehend using the Amazon Comprehend\n",
      "\n",
      "\u001b[1mResult 2\u001b[0m: Understand how Amazon Comprehend works. Use Amazon Comprehend to create new products. Access Amazon Comprehend using the Amazon Comprehend console or the Amazon Comprehend APIs. Run Amazon Comprehen\n",
      "\n",
      "\u001b[1m For prompt: 'Write a sentence based on '{text}''\u001b[0m\n",
      "\n",
      "\u001b[1m The 3 summarized results are\u001b[0m:\n",
      "\n",
      "\u001b[1mResult 0\u001b[0m: Amazon Comprehend is a natural language processing (NLP) service that analyzes documents. It develops insights by recognizing the entities, key phrases, language, sentiments, and other common elements in a document.\n",
      "\n",
      "\u001b[1mResult 1\u001b[0m: Amazon Comprehend is a text analysis service that analyzes documents.\n",
      "\n",
      "\u001b[1mResult 2\u001b[0m: Amazon Comprehend is a cloud-based service that analyzes documents.\n",
      "\n",
      "\u001b[1m For prompt: 'Summarize this article:\n",
      "\n",
      "{text}'\u001b[0m\n",
      "\n",
      "\u001b[1m The 3 summarized results are\u001b[0m:\n",
      "\n",
      "\u001b[1mResult 0\u001b[0m: Understand how Amazon Comprehend works. Understand how Amazon Comprehend works. Understand how Amazon Comprehend works.\n",
      "\n",
      "\u001b[1mResult 1\u001b[0m: Understand how Amazon Comprehend works. Understand how Amazon Comprehend works. Understand how Amazon Comprehend works.\n",
      "\n",
      "\u001b[1mResult 2\u001b[0m: Understand how Amazon Comprehend works. Access Amazon Comprehend. Use Amazon Comprehend to analyze documents.\n",
      "\n"
     ]
    }
   ],
   "source": [
    "prompts = [\n",
    "    \"Briefly summarize this sentence: {text}\",\n",
    "    \"Write a short summary for this text: {text}\",\n",
    "    \"Generate a short summary this sentence:\\n{text}\",\n",
    "    \"{text}\\n\\nWrite a brief summary in a sentence or less\",\n",
    "    \"{text}\\nSummarize the aforementioned text in a single phrase.\",\n",
    "    \"{text}\\nCan you generate a short summary of the above paragraph?\",\n",
    "    \"Write a sentence based on this summary: {text}\",\n",
    "    \"Write a sentence based on '{text}'\",\n",
    "    \"Summarize this article:\\n\\n{text}\",\n",
    "]\n",
    "\n",
    "num_return_sequences = 3\n",
    "parameters = {\n",
    "    \"max_length\": 50,\n",
    "    \"num_return_sequences\": num_return_sequences,\n",
    "    \"top_k\": 50,\n",
    "    \"top_p\": 0.95,\n",
    "    \"do_sample\": True,\n",
    "}\n",
    "\n",
    "print(f\"{bold}Number of return sequences are set as {num_return_sequences}{unbold}{newline}\")\n",
    "for each_prompt in prompts:\n",
    "    payload = {\"text_inputs\": each_prompt.replace(\"{text}\", text), **parameters}\n",
    "    query_response = query_endpoint_with_json_payload(\n",
    "        json.dumps(payload).encode(\"utf-8\"), endpoint_name=endpoint_name\n",
    "    )\n",
    "    generated_texts = parse_response_multiple_texts(query_response)\n",
    "    print(f\"{bold} For prompt: '{each_prompt}'{unbold}{newline}\")\n",
    "    print(f\"{bold} The {num_return_sequences} summarized results are{unbold}:{newline}\")\n",
    "    for idx, each_generated_text in enumerate(generated_texts):\n",
    "        print(f\"{bold}Result {idx}{unbold}: {each_generated_text}{newline}\")"
   ]
  },
  {
   "cell_type": "markdown",
   "id": "709e998c-b14e-44c5-a893-3b722ada32ef",
   "metadata": {},
   "source": [
    "### 6.2. Common sense reasoning / natural language inference\n",
    "\n",
    "In the common sense reasoning, you can design a prompt and combine it with the premise, hypothesis, and options, send the combined text into the endpoint to get an answer. Examples are demonstrated as below."
   ]
  },
  {
   "cell_type": "markdown",
   "id": "48e5c7a0-e85d-4c00-8454-f9dc536cb4f1",
   "metadata": {},
   "source": [
    "Define the premise, hypothesis, and options that you hope the model to reason."
   ]
  },
  {
   "cell_type": "code",
   "execution_count": 17,
   "id": "6a1293f0-3a15-47be-aadb-ec1e433036c3",
   "metadata": {
    "tags": []
   },
   "outputs": [],
   "source": [
    "premise = \"The world cup has kicked off in Los Angeles, United States.\"\n",
    "hypothesis = \"The world cup takes place in United States.\"\n",
    "options = \"\"\"[\"yes\", \"no\"]\"\"\""
   ]
  },
  {
   "cell_type": "code",
   "execution_count": 18,
   "id": "aec9c74c-3f35-442b-8045-d8ec8618a922",
   "metadata": {
    "tags": []
   },
   "outputs": [
    {
     "name": "stdout",
     "output_type": "stream",
     "text": [
      "\u001b[1m For prompt\u001b[0m: 'The world cup has kicked off in Los Angeles, United States.\n",
      "\n",
      "Based on the paragraph above can we conclude that \"\"The world cup takes place in United States.\"?\n",
      "\n",
      "[\"yes\", \"no\"]'\n",
      "\n",
      "\u001b[1m The reasoning result is\u001b[0m: '['yes']'\n",
      "\n",
      "\u001b[1m For prompt\u001b[0m: 'The world cup has kicked off in Los Angeles, United States.\n",
      "\n",
      "Based on that paragraph can we conclude that this sentence is true?\n",
      "The world cup takes place in United States.\n",
      "\n",
      "[\"yes\", \"no\"]'\n",
      "\n",
      "\u001b[1m The reasoning result is\u001b[0m: '['yes']'\n",
      "\n",
      "\u001b[1m For prompt\u001b[0m: 'The world cup has kicked off in Los Angeles, United States.\n",
      "\n",
      "Can we draw the following conclusion?\n",
      "The world cup takes place in United States.\n",
      "\n",
      "[\"yes\", \"no\"]'\n",
      "\n",
      "\u001b[1m The reasoning result is\u001b[0m: '['no']'\n",
      "\n",
      "\u001b[1m For prompt\u001b[0m: 'The world cup has kicked off in Los Angeles, United States.\n",
      "Does this next sentence follow, given the preceding text?\n",
      "The world cup takes place in United States.\n",
      "\n",
      "[\"yes\", \"no\"]'\n",
      "\n",
      "\u001b[1m The reasoning result is\u001b[0m: '['yes']'\n",
      "\n",
      "\u001b[1m For prompt\u001b[0m: 'The world cup has kicked off in Los Angeles, United States.\n",
      "Can we infer the following?\n",
      "The world cup takes place in United States.\n",
      "\n",
      "[\"yes\", \"no\"]'\n",
      "\n",
      "\u001b[1m The reasoning result is\u001b[0m: '['yes']'\n",
      "\n",
      "\u001b[1m For prompt\u001b[0m: 'Read the following paragraph and determine if the hypothesis is true:\n",
      "\n",
      "The world cup has kicked off in Los Angeles, United States.\n",
      "\n",
      "Hypothesis: The world cup takes place in United States.\n",
      "\n",
      "[\"yes\", \"no\"]'\n",
      "\n",
      "\u001b[1m The reasoning result is\u001b[0m: '['yes']'\n",
      "\n",
      "\u001b[1m For prompt\u001b[0m: 'Read the text and determine if the sentence is true:\n",
      "\n",
      "The world cup has kicked off in Los Angeles, United States.\n",
      "\n",
      "Sentence: The world cup takes place in United States.\n",
      "\n",
      "[\"yes\", \"no\"]'\n",
      "\n",
      "\u001b[1m The reasoning result is\u001b[0m: '['yes']'\n",
      "\n",
      "\u001b[1m For prompt\u001b[0m: 'Can we draw the following hypothesis from the context? \n",
      "\n",
      "Context:\n",
      "\n",
      "The world cup has kicked off in Los Angeles, United States.\n",
      "\n",
      "Hypothesis: The world cup takes place in United States.\n",
      "\n",
      "[\"yes\", \"no\"]'\n",
      "\n",
      "\u001b[1m The reasoning result is\u001b[0m: '['yes']'\n",
      "\n",
      "\u001b[1m For prompt\u001b[0m: 'Determine if the sentence is true based on the text below:\n",
      "The world cup takes place in United States.\n",
      "\n",
      "The world cup has kicked off in Los Angeles, United States.\n",
      "[\"yes\", \"no\"]'\n",
      "\n",
      "\u001b[1m The reasoning result is\u001b[0m: '['no']'\n",
      "\n"
     ]
    }
   ],
   "source": [
    "prompts = [\n",
    "    \"\"\"{premise}\\n\\nBased on the paragraph above can we conclude that \"\\\"{hypothesis}\\\"?\\n\\n{options_}\"\"\",\n",
    "    \"\"\"{premise}\\n\\nBased on that paragraph can we conclude that this sentence is true?\\n{hypothesis}\\n\\n{options_}\"\"\",\n",
    "    \"\"\"{premise}\\n\\nCan we draw the following conclusion?\\n{hypothesis}\\n\\n{options_}\"\"\",\n",
    "    \"\"\"{premise}\\nDoes this next sentence follow, given the preceding text?\\n{hypothesis}\\n\\n{options_}\"\"\",\n",
    "    \"\"\"{premise}\\nCan we infer the following?\\n{hypothesis}\\n\\n{options_}\"\"\",\n",
    "    \"\"\"Read the following paragraph and determine if the hypothesis is true:\\n\\n{premise}\\n\\nHypothesis: {hypothesis}\\n\\n{options_}\"\"\",\n",
    "    \"\"\"Read the text and determine if the sentence is true:\\n\\n{premise}\\n\\nSentence: {hypothesis}\\n\\n{options_}\"\"\",\n",
    "    \"\"\"Can we draw the following hypothesis from the context? \\n\\nContext:\\n\\n{premise}\\n\\nHypothesis: {hypothesis}\\n\\n{options_}\"\"\",\n",
    "    \"\"\"Determine if the sentence is true based on the text below:\\n{hypothesis}\\n\\n{premise}\\n{options_}\"\"\",\n",
    "]\n",
    "\n",
    "parameters = {\n",
    "    \"max_length\": 50,\n",
    "    \"num_return_sequences\": 1,\n",
    "    \"top_k\": 50,\n",
    "    \"top_p\": 0.95,\n",
    "    \"do_sample\": True,\n",
    "}\n",
    "\n",
    "\n",
    "for each_prompt in prompts:\n",
    "    input_text = each_prompt.replace(\"{premise}\", premise)\n",
    "    input_text = input_text.replace(\"{hypothesis}\", hypothesis)\n",
    "    input_text = input_text.replace(\"{options_}\", options)\n",
    "    print(f\"{bold} For prompt{unbold}: '{input_text}'{newline}\")\n",
    "    payload = {\"text_inputs\": input_text, **parameters}\n",
    "    query_response = query_endpoint_with_json_payload(\n",
    "        json.dumps(payload).encode(\"utf-8\"), endpoint_name=endpoint_name\n",
    "    )\n",
    "    generated_texts = parse_response_multiple_texts(query_response)\n",
    "    print(f\"{bold} The reasoning result is{unbold}: '{generated_texts}'{newline}\")"
   ]
  },
  {
   "cell_type": "markdown",
   "id": "f1882574-438c-4242-8310-0213fec72071",
   "metadata": {},
   "source": [
    "### 6.3. Question and Answering\n",
    "\n",
    "Now, let's try another reasoning task with a different type of prompt template. You can simply provide context and question as shown below."
   ]
  },
  {
   "cell_type": "code",
   "execution_count": null,
   "id": "c87ec4cc-0c99-41ab-81dd-7b49088e2794",
   "metadata": {},
   "outputs": [],
   "source": [
    "context = \"\"\"The newest and most innovative Kindle yet lets you take notes on millions of books and documents, write lists and journals, and more. \n",
    "\n",
    "For readers who have always wished they could write in their eBooks, Amazon’s new Kindle lets them do just that. The Kindle Scribe is the first Kindle for reading and writing and allows users to supplement their books and documents with notes, lists, and more.\n",
    "\n",
    "Here’s everything you need to know about the Kindle Scribe, including frequently asked questions.\n",
    "\n",
    "The Kindle Scribe makes it easy to read and write like you would on paper \n",
    "\n",
    "The Kindle Scribe features a 10.2-inch, glare-free screen (the largest of all Kindle devices), crisp 300 ppi resolution, and 35 LED front lights that automatically adjust to your environment. Further personalize your experience with the adjustable warm light, font sizes, line spacing, and more.\n",
    "\n",
    "It comes with your choice of the Basic Pen or the Premium Pen, which you use to write on the screen like you would on paper. They also attach magnetically to your Kindle and never need to be charged. The Premium Pen includes a dedicated eraser and a customizable shortcut button.\n",
    "\n",
    "The Kindle Scribe has the most storage options of all Kindle devices: choose from 8 GB, 16 GB, or 32 GB to suit your level of reading and writing.\n",
    "\"\"\"\n",
    "question = \"what are the key features of new Kindle?\""
   ]
  },
  {
   "cell_type": "code",
   "execution_count": null,
   "id": "188792ab-19b6-4e94-8374-7ebf0b1ecc31",
   "metadata": {
    "tags": []
   },
   "outputs": [],
   "source": [
    "prompts = [\n",
    "    \"\"\"Answer based on context:\\n\\n{context}\\n\\n{question}\"\"\",\n",
    "    \"\"\"{context}\\n\\nAnswer this question based on the article: {question}\"\"\",\n",
    "    \"\"\"{context}\\n\\n{question}\"\"\",\n",
    "    \"\"\"{context}\\nAnswer this question: {question}\"\"\",\n",
    "    \"\"\"Read this article and answer this question {context}\\n{question}\"\"\",\n",
    "    \"\"\"{context}\\n\\nBased on the above article, answer a question. {question}\"\"\",\n",
    "    \"\"\"Write an article that answers the following question: {question} {context}\"\"\",\n",
    "]\n",
    "\n",
    "\n",
    "parameters = {\n",
    "    \"max_length\": 50,\n",
    "    \"num_return_sequences\": 1,\n",
    "    \"top_k\": 50,\n",
    "    \"top_p\": 0.95,\n",
    "    \"do_sample\": True,\n",
    "}\n",
    "\n",
    "\n",
    "for each_prompt in prompts:\n",
    "    input_text = each_prompt.replace(\"{context}\", context)\n",
    "    input_text = input_text.replace(\"{question}\", question)\n",
    "    print(f\"{bold} For prompt{unbold}: '{each_prompt}'{newline}\")\n",
    "    payload = {\"text_inputs\": input_text, **parameters}\n",
    "    query_response = query_endpoint_with_json_payload(\n",
    "        json.dumps(payload).encode(\"utf-8\"), endpoint_name=endpoint_name\n",
    "    )\n",
    "    generated_texts = parse_response_multiple_texts(query_response)\n",
    "    print(f\"{bold} The reasoning result is{unbold}: '{generated_texts}'{newline}\")"
   ]
  },
  {
   "cell_type": "markdown",
   "id": "093938af-78cd-473d-bb0d-b827a8fe11b8",
   "metadata": {},
   "source": [
    "### 6.4. Sentence / Sentiment Classification"
   ]
  },
  {
   "cell_type": "markdown",
   "id": "40b499f2-fbe3-4968-a737-7bc58b5e5c54",
   "metadata": {},
   "source": [
    "Define the sentence you want to classify and the corresponded options."
   ]
  },
  {
   "cell_type": "code",
   "execution_count": null,
   "id": "24d3f36c-f13c-4d03-8aff-1cf647c22ba4",
   "metadata": {},
   "outputs": [],
   "source": [
    "sentence = \"This moive is so great and once again dazzles and delights us\"\n",
    "options_ = \"\"\"OPTIONS:\\n-positive \\n-negative \"\"\""
   ]
  },
  {
   "cell_type": "code",
   "execution_count": null,
   "id": "a5149607-620c-4957-a40a-befb8ab4ff95",
   "metadata": {
    "tags": []
   },
   "outputs": [],
   "source": [
    "prompts = [\n",
    "    \"\"\"Review:\\n{sentence}\\nIs this movie review sentence negative or positive?\\n{options_}\"\"\",\n",
    "    \"\"\"Short movie review: {sentence}\\nDid the critic think positively or negatively of the movie?\\n{options_}\"\"\",\n",
    "    \"\"\"Sentence from a movie review: {sentence}\\nWas the movie seen positively or negatively based on the preceding review? \\n\\n{options_}\"\"\",\n",
    "    \"\"\"\\\"{sentence}\\\"\\nHow would the sentiment of this sentence be perceived?\\n\\n{options_}\"\"\",\n",
    "    \"\"\"Is the sentiment of the following sentence positive or negative?\\n{sentence}\\n{options_}\"\"\",\n",
    "    \"\"\"What is the sentiment of the following movie review sentence?\\n{sentence}\\n{options_}\"\"\",\n",
    "]\n",
    "\n",
    "parameters = {\n",
    "    \"max_length\": 50,\n",
    "    \"num_return_sequences\": 1,\n",
    "    \"top_k\": 50,\n",
    "    \"top_p\": 0.95,\n",
    "    \"do_sample\": True,\n",
    "}\n",
    "\n",
    "\n",
    "for each_prompt in prompts:\n",
    "    input_text = each_prompt.replace(\"{sentence}\", sentence)\n",
    "    input_text = input_text.replace(\"{options_}\", options_)\n",
    "    print(f\"{bold} For prompt{unbold}: '{input_text}'{newline}\")\n",
    "    payload = {\"text_inputs\": input_text, **parameters}\n",
    "    query_response = query_endpoint_with_json_payload(\n",
    "        json.dumps(payload).encode(\"utf-8\"), endpoint_name=endpoint_name\n",
    "    )\n",
    "    generated_texts = parse_response_multiple_texts(query_response)\n",
    "    print(f\"{bold} The reasoning result is{unbold}: '{generated_texts}'{newline}\")"
   ]
  },
  {
   "cell_type": "markdown",
   "id": "2048ba64-51ea-4e23-8deb-40611e5f0a13",
   "metadata": {},
   "source": [
    "### 6.5. Translation"
   ]
  },
  {
   "cell_type": "markdown",
   "id": "cf6dfbcf-e3f6-48c3-b024-71d2299f131e",
   "metadata": {},
   "source": [
    "Define the sentence and the language you want to translate the sentence to."
   ]
  },
  {
   "cell_type": "code",
   "execution_count": null,
   "id": "79249ccc-0a6e-4f93-84fd-25bfcc452274",
   "metadata": {},
   "outputs": [],
   "source": [
    "sent1 = \"My name is Arthur\"\n",
    "lang2 = \"\"\"German\"\"\""
   ]
  },
  {
   "cell_type": "code",
   "execution_count": null,
   "id": "9a26f47c-ef1c-4ba3-99fe-c33431cda283",
   "metadata": {
    "tags": []
   },
   "outputs": [],
   "source": [
    "prompts = [\n",
    "    \"\"\"{sent1}\\n\\nTranslate to {lang2}\"\"\",\n",
    "    \"\"\"{sent1}\\n\\nCould you please translate this to {lang2}?\"\"\",\n",
    "    \"\"\"Translate to {lang2}:\\n\\n{sent1}\"\"\",\n",
    "    \"\"\"Translate the following sentence to {lang2}:\\n{sent1}\"\"\",\n",
    "    \"\"\"How is \\\"{sent1}\\\" said in {lang2}?\"\"\",\n",
    "    \"\"\"Translate \\\"{sent1}\\\" to {lang2}?\"\"\",\n",
    "]\n",
    "\n",
    "parameters = {\n",
    "    \"max_length\": 50,\n",
    "    \"num_return_sequences\": 1,\n",
    "    \"top_k\": 50,\n",
    "    \"top_p\": 0.95,\n",
    "    \"do_sample\": True,\n",
    "}\n",
    "\n",
    "\n",
    "for each_prompt in prompts:\n",
    "    input_text = each_prompt.replace(\"{sent1}\", sent1)\n",
    "    input_text = input_text.replace(\"{lang2}\", lang2)\n",
    "    print(f\"{bold} For prompt{unbold}: '{input_text}'{newline}\")\n",
    "    payload = {\"text_inputs\": input_text, **parameters}\n",
    "    query_response = query_endpoint_with_json_payload(\n",
    "        json.dumps(payload).encode(\"utf-8\"), endpoint_name=endpoint_name\n",
    "    )\n",
    "    generated_texts = parse_response_multiple_texts(query_response)\n",
    "    print(f\"{bold} The translated result is{unbold}: '{generated_texts}'{newline}\")"
   ]
  },
  {
   "cell_type": "markdown",
   "id": "5486db8c-4e6a-4dab-8f6e-f5b2e15dbfc9",
   "metadata": {},
   "source": [
    "### 6.6. Pronoun resolution"
   ]
  },
  {
   "cell_type": "markdown",
   "id": "f7d61964-1580-43a9-8a35-a8df058344b7",
   "metadata": {},
   "source": [
    "Define the sentence, pronoun, and options you want to reason."
   ]
  },
  {
   "cell_type": "code",
   "execution_count": null,
   "id": "4b474f70-6c1d-4fbd-9564-de9f6dc2181d",
   "metadata": {},
   "outputs": [],
   "source": [
    "sentence = \"George talked to Mike because he had experiences in many aspects.\"\n",
    "pronoun = \"he\"\n",
    "options_ = \"\"\"\\n(A)George \\n(B)Mike \"\"\""
   ]
  },
  {
   "cell_type": "code",
   "execution_count": null,
   "id": "69448723-5aa5-4a45-937a-23bf9d0f142e",
   "metadata": {
    "tags": []
   },
   "outputs": [],
   "source": [
    "prompts = [\n",
    "    \"\"\"sentence}\\n\\nWho is {pronoun} referring to?\\n{options_}\"\"\",\n",
    "    \"\"\"{sentence}\\n\\nWho is \\\"{pronoun}\\\" in this prior sentence?\\n{options_}\"\"\",\n",
    "    \"\"\"{sentence}\\n\\nWho is {pronoun} referring to in this sentence?\\n{options_}\"\"\",\n",
    "    \"\"\"{sentence}\\nTell me who {pronoun} is.\\n{options_}\"\"\",\n",
    "    \"\"\"{sentence}\\nBased on this sentence, who is {pronoun}?\\n\\n{options_}\"\"\",\n",
    "    \"\"\"Who is {pronoun} in the following sentence?\\n\\n{sentence}\\n\\n{options_}\"\"\",\n",
    "    \"\"\"Which entity is {pronoun} this sentence?\\n\\n{sentence}\\n\\n{options_}\"\"\",\n",
    "]\n",
    "\n",
    "parameters = {\n",
    "    \"max_length\": 50,\n",
    "    \"num_return_sequences\": 1,\n",
    "    \"top_k\": 50,\n",
    "    \"top_p\": 0.95,\n",
    "    \"do_sample\": True,\n",
    "}\n",
    "\n",
    "\n",
    "for each_prompt in prompts:\n",
    "    input_text = each_prompt.replace(\"{sentence}\", sentence)\n",
    "    input_text = input_text.replace(\"{pronoun}\", pronoun)\n",
    "    input_text = input_text.replace(\"{options_}\", options_)\n",
    "    print(f\"{bold} For prompt{unbold}: '{input_text}'{newline}\")\n",
    "    payload = {\"text_inputs\": input_text, **parameters}\n",
    "    query_response = query_endpoint_with_json_payload(\n",
    "        json.dumps(payload).encode(\"utf-8\"), endpoint_name=endpoint_name\n",
    "    )\n",
    "    generated_texts = parse_response_multiple_texts(query_response)\n",
    "    print(f\"{bold} The reasoning result is{unbold}: '{generated_texts}'{newline}\")"
   ]
  },
  {
   "cell_type": "markdown",
   "id": "2ce98d38-b0c7-4760-bf07-3d6b6c5cbbe0",
   "metadata": {},
   "source": [
    "## 6.7. Imaginary article generation based on a title"
   ]
  },
  {
   "cell_type": "code",
   "execution_count": null,
   "id": "d5935d45-8354-459a-b359-2a4066643934",
   "metadata": {},
   "outputs": [],
   "source": [
    "title = \"University has new facility coming up\""
   ]
  },
  {
   "cell_type": "code",
   "execution_count": null,
   "id": "156cf9f1-d9b4-4532-a024-2c56dbca8289",
   "metadata": {},
   "outputs": [],
   "source": [
    "prompts = [\n",
    "    \"\"\"Title: \\\"{title}\\\"\\\\nGiven the above title of an imaginary article, imagine the article.\\\\n\"\"\"\n",
    "]\n",
    "\n",
    "\n",
    "parameters = {\n",
    "    \"max_length\": 5000,\n",
    "    \"num_return_sequences\": 1,\n",
    "    \"top_k\": 50,\n",
    "    \"top_p\": 0.95,\n",
    "    \"do_sample\": True,\n",
    "}\n",
    "\n",
    "\n",
    "for each_prompt in prompts:\n",
    "    input_text = each_prompt.replace(\"{title}\", title)\n",
    "    print(f\"{bold} For prompt{unbold}: '{input_text}'{newline}\")\n",
    "    payload = {\"text_inputs\": input_text, **parameters}\n",
    "    query_response = query_endpoint_with_json_payload(\n",
    "        json.dumps(payload).encode(\"utf-8\"), endpoint_name=endpoint_name\n",
    "    )\n",
    "    generated_texts = parse_response_multiple_texts(query_response)\n",
    "    print(f\"{bold} The reasoning result is{unbold}: '{generated_texts}'{newline}\")"
   ]
  },
  {
   "cell_type": "markdown",
   "id": "691eda3a-cb6c-468b-ba09-ab928d0d418d",
   "metadata": {},
   "source": [
    "## 6.8 Summarize a title based on the article"
   ]
  },
  {
   "cell_type": "code",
   "execution_count": null,
   "id": "9e0a6eb2-8fc7-452f-a6f6-e55dde3ff01d",
   "metadata": {},
   "outputs": [],
   "source": [
    "article = \"\"\"The newest and most innovative Kindle yet lets you take notes on millions of books and documents, write lists and journals, and more. \n",
    "\n",
    "For readers who have always wished they could write in their eBooks, Amazon’s new Kindle lets them do just that. The Kindle Scribe is the first Kindle for reading and writing and allows users to supplement their books and documents with notes, lists, and more.\n",
    "\n",
    "Here’s everything you need to know about the Kindle Scribe, including frequently asked questions.\n",
    "\n",
    "The Kindle Scribe makes it easy to read and write like you would on paper \n",
    "\n",
    "The Kindle Scribe features a 10.2-inch, glare-free screen (the largest of all Kindle devices), crisp 300 ppi resolution, and 35 LED front lights that automatically adjust to your environment. Further personalize your experience with the adjustable warm light, font sizes, line spacing, and more.\n",
    "\n",
    "It comes with your choice of the Basic Pen or the Premium Pen, which you use to write on the screen like you would on paper. They also attach magnetically to your Kindle and never need to be charged. The Premium Pen includes a dedicated eraser and a customizable shortcut button.\n",
    "\n",
    "The Kindle Scribe has the most storage options of all Kindle devices: choose from 8 GB, 16 GB, or 32 GB to suit your level of reading and writing.\"\"\""
   ]
  },
  {
   "cell_type": "code",
   "execution_count": null,
   "id": "17c174d1-d651-4af4-a17a-9768425a19ea",
   "metadata": {},
   "outputs": [],
   "source": [
    "prompts = [\"\"\"'\\'{article} \\n\\n \\\\n\\\\nGive me a good title for the article above.\"\"\"]\n",
    "\n",
    "parameters = {\n",
    "    \"max_length\": 2000,\n",
    "    \"num_return_sequences\": 1,\n",
    "    \"top_k\": 50,\n",
    "    \"top_p\": 0.95,\n",
    "    \"do_sample\": True,\n",
    "}\n",
    "\n",
    "\n",
    "for each_prompt in prompts:\n",
    "    input_text = each_prompt.replace(\"{article}\", article)\n",
    "    print(f\"{bold} For prompt{unbold}: '{input_text}'{newline}\")\n",
    "    payload = {\"text_inputs\": input_text, **parameters}\n",
    "    query_response = query_endpoint_with_json_payload(\n",
    "        json.dumps(payload).encode(\"utf-8\"), endpoint_name=endpoint_name\n",
    "    )\n",
    "    generated_texts = parse_response_multiple_texts(query_response)\n",
    "    print(f\"{bold} The reasoning result is{unbold}: '{generated_texts}'{newline}\")"
   ]
  }
 ],
 "metadata": {
  "kernelspec": {
   "display_name": "conda_amazonei_pytorch_latest_p37",
   "language": "python",
   "name": "conda_amazonei_pytorch_latest_p37"
  },
  "language_info": {
   "codemirror_mode": {
    "name": "ipython",
    "version": 3
   },
   "file_extension": ".py",
   "mimetype": "text/x-python",
   "name": "python",
   "nbconvert_exporter": "python",
   "pygments_lexer": "ipython3",
   "version": "3.7.10"
  }
 },
 "nbformat": 4,
 "nbformat_minor": 5
}
