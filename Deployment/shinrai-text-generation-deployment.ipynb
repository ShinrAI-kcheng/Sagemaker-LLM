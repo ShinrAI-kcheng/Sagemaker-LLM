{
 "cells": [
  {
   "cell_type": "markdown",
   "id": "4a1a52b6",
   "metadata": {},
   "source": [
    "# Shinrai Text Generation LLM Script"
   ]
  },
  {
   "cell_type": "markdown",
   "id": "5acea92d",
   "metadata": {},
   "source": [
    "Derived from aws, text2text-generation-flan-t5.ipynb\n"
   ]
  },
  {
   "cell_type": "markdown",
   "id": "d2f8dfad",
   "metadata": {},
   "source": [
    "### 1. Set Up"
   ]
  },
  {
   "cell_type": "code",
   "execution_count": 1,
   "id": "eb67d497",
   "metadata": {
    "tags": []
   },
   "outputs": [],
   "source": [
    "!pip install ipywidgets==7.0.0 --quiet\n",
    "!pip install --upgrade sagemaker --quiet\n",
    "\n",
    "import sagemaker, boto3, json\n",
    "from sagemaker.session import Session\n",
    "\n",
    "sagemaker_session = Session() # Permissions\n",
    "aws_role = sagemaker_session.get_caller_identity_arn()\n",
    "aws_region = boto3.Session().region_name\n",
    "sess = sagemaker.Session()"
   ]
  },
  {
   "cell_type": "markdown",
   "id": "69849d02",
   "metadata": {},
   "source": [
    "## 2. Select Model"
   ]
  },
  {
   "cell_type": "code",
   "execution_count": 17,
   "id": "bc3999a1-ff19-44eb-9c63-f9807d87257b",
   "metadata": {
    "tags": []
   },
   "outputs": [
    {
     "name": "stdout",
     "output_type": "stream",
     "text": [
      "['autogluon-classification-ensemble', 'autogluon-regression-ensemble', 'catboost-classification-model', 'catboost-regression-model', 'huggingface-eqa-bert-base-cased', 'huggingface-eqa-bert-base-multilingual-cased', 'huggingface-eqa-bert-base-multilingual-uncased', 'huggingface-eqa-bert-base-uncased', 'huggingface-eqa-bert-large-cased', 'huggingface-eqa-bert-large-cased-whole-word-masking', 'huggingface-eqa-bert-large-uncased', 'huggingface-eqa-bert-large-uncased-whole-word-masking', 'huggingface-eqa-distilbert-base-cased', 'huggingface-eqa-distilbert-base-multilingual-cased', 'huggingface-eqa-distilbert-base-uncased', 'huggingface-eqa-distilroberta-base', 'huggingface-eqa-roberta-base', 'huggingface-eqa-roberta-base-openai-detector', 'huggingface-eqa-roberta-large', 'huggingface-fillmask-bert-base-uncased', 'huggingface-ner-distilbert-base-cased-finetuned-conll03-english', 'huggingface-ner-distilbert-base-uncased-finetuned-conll03-english', 'huggingface-spc-bert-base-cased', 'huggingface-spc-bert-base-multilingual-cased', 'huggingface-spc-bert-base-multilingual-uncased', 'huggingface-spc-bert-base-uncased', 'huggingface-spc-bert-large-cased', 'huggingface-spc-bert-large-cased-whole-word-masking', 'huggingface-spc-bert-large-uncased', 'huggingface-spc-bert-large-uncased-whole-word-masking', 'huggingface-spc-distilbert-base-cased', 'huggingface-spc-distilbert-base-multilingual-cased', 'huggingface-spc-distilbert-base-uncased', 'huggingface-spc-distilroberta-base', 'huggingface-spc-roberta-base', 'huggingface-spc-roberta-base-openai-detector', 'huggingface-spc-roberta-large', 'huggingface-spc-roberta-large-openai-detector', 'huggingface-spc-xlm-clm-ende-1024', 'huggingface-spc-xlm-mlm-ende-1024', 'huggingface-spc-xlm-mlm-enro-1024', 'huggingface-spc-xlm-mlm-tlm-xnli15-1024', 'huggingface-spc-xlm-mlm-xnli15-1024', 'huggingface-summarization-bart-large-cnn-samsum', 'huggingface-summarization-bert-small2bert-small-finetuned-cnn-daily-mail-summarization', 'huggingface-summarization-bigbird-pegasus-large-arxiv', 'huggingface-summarization-bigbird-pegasus-large-pubmed', 'huggingface-summarization-distilbart-cnn-12-6', 'huggingface-summarization-distilbart-cnn-6-6', 'huggingface-summarization-distilbart-xsum-1-1', 'huggingface-summarization-distilbart-xsum-12-3', 'huggingface-tc-bert-base-cased', 'huggingface-tc-bert-base-multilingual-cased', 'huggingface-tc-bert-base-multilingual-uncased', 'huggingface-tc-bert-base-uncased', 'huggingface-tc-bert-large-cased', 'huggingface-tc-bert-large-cased-whole-word-masking', 'huggingface-tc-bert-large-uncased', 'huggingface-tc-bert-large-uncased-whole-word-masking', 'huggingface-tc-distilbert-base-cased', 'huggingface-tc-distilbert-base-multilingual-cased', 'huggingface-tc-distilbert-base-uncased', 'huggingface-tc-distilroberta-base', 'huggingface-tc-models', 'huggingface-tc-roberta-base', 'huggingface-tc-roberta-base-openai-detector', 'huggingface-tc-roberta-large', 'huggingface-tc-roberta-large-openai-detector', 'huggingface-tc-xlm-clm-ende-1024', 'huggingface-tc-xlm-mlm-ende-1024', 'huggingface-tc-xlm-mlm-enro-1024', 'huggingface-tc-xlm-mlm-tlm-xnli15-1024', 'huggingface-text2text-bart4csc-base-chinese', 'huggingface-text2text-bigscience-t0pp', 'huggingface-text2text-bigscience-t0pp-bnb-int8', 'huggingface-text2text-bigscience-t0pp-fp16', 'huggingface-text2text-flan-t5-base', 'huggingface-text2text-flan-t5-base-samsum', 'huggingface-text2text-flan-t5-large', 'huggingface-text2text-flan-t5-small', 'huggingface-text2text-flan-t5-xl', 'huggingface-text2text-flan-t5-xxl', 'huggingface-text2text-flan-t5-xxl-bnb-int8', 'huggingface-text2text-flan-t5-xxl-fp16', 'huggingface-text2text-flan-ul2-bf16', 'huggingface-text2text-pegasus-paraphrase', 'huggingface-text2text-qcpg-sentences', 'huggingface-text2text-t5-one-line-summary', 'huggingface-textembedding-bloom-7b1', 'huggingface-textembedding-bloom-7b1-fp16', 'huggingface-textembedding-gpt-j-6b', 'huggingface-textembedding-gpt-j-6b-fp16', 'huggingface-textgeneration-bloom-1b1', 'huggingface-textgeneration-bloom-1b7', 'huggingface-textgeneration-bloom-560m', 'huggingface-textgeneration-bloomz-1b1', 'huggingface-textgeneration-bloomz-1b7', 'huggingface-textgeneration-bloomz-560m', 'huggingface-textgeneration-distilgpt2', 'huggingface-textgeneration-gpt2', 'huggingface-textgeneration-models', 'huggingface-textgeneration1-bloom-3b', 'huggingface-textgeneration1-bloom-3b-fp16', 'huggingface-textgeneration1-bloom-7b1', 'huggingface-textgeneration1-bloom-7b1-fp16', 'huggingface-textgeneration1-bloomz-3b-fp16', 'huggingface-textgeneration1-bloomz-7b1-fp16', 'huggingface-textgeneration1-gpt-2-xl', 'huggingface-textgeneration1-gpt-2-xl-fp16', 'huggingface-textgeneration1-gpt-j-6b', 'huggingface-textgeneration1-gpt-j-6b-fp16', 'huggingface-textgeneration1-gpt-neo-1-3b', 'huggingface-textgeneration1-gpt-neo-1-3b-fp16', 'huggingface-textgeneration1-gpt-neo-125m', 'huggingface-textgeneration1-gpt-neo-125m-fp16', 'huggingface-textgeneration1-gpt-neo-2-7b', 'huggingface-textgeneration1-gpt-neo-2-7b-fp16', 'huggingface-translation-opus-mt-en-es', 'huggingface-translation-opus-mt-en-vi', 'huggingface-translation-t5-base', 'huggingface-translation-t5-large', 'huggingface-translation-t5-small', 'huggingface-txt2img-22h-vintedois-diffusion-v0-1', 'huggingface-txt2img-akikagura-mkgen-diffusion', 'huggingface-txt2img-alxdfy-noggles-fastdb-4800', 'huggingface-txt2img-alxdfy-noggles9000', 'huggingface-txt2img-andite-anything-v4-0', 'huggingface-txt2img-astraliteheart-pony-diffusion-v2', 'huggingface-txt2img-avrik-abstract-anim-spritesheets', 'huggingface-txt2img-aybeeceedee-knollingcase', 'huggingface-txt2img-bingsu-my-k-anything-v3-0', 'huggingface-txt2img-bingsu-my-korean-stable-diffusion-v1-5', 'huggingface-txt2img-buntopsih-novgoranstefanovski', 'huggingface-txt2img-claudfuen-photorealistic-fuen-v1', 'huggingface-txt2img-coder119-vectorartz-diffusion', 'huggingface-txt2img-conflictx-complex-lineart', 'huggingface-txt2img-dallinmackay-cats-musical-diffusion', 'huggingface-txt2img-dallinmackay-jwst-deep-space-diffusion', 'huggingface-txt2img-dallinmackay-tron-legacy-diffusion', 'huggingface-txt2img-dallinmackay-van-gogh-diffusion', 'huggingface-txt2img-dgspitzer-cyberpunk-anime-diffusion', 'huggingface-txt2img-dreamlike-art-dreamlike-diffusion-1-0', 'huggingface-txt2img-eimiss-eimisanimediffusion-1-0v', 'huggingface-txt2img-envvi-inkpunk-diffusion', 'huggingface-txt2img-evel-yoshin', 'huggingface-txt2img-extraphy-mustafa-kemal-ataturk', 'huggingface-txt2img-fffiloni-mr-men-and-little-misses', 'huggingface-txt2img-fictiverse-elrisitas', 'huggingface-txt2img-fictiverse-stable-diffusion-balloonart-model', 'huggingface-txt2img-fictiverse-stable-diffusion-microscopic-model', 'huggingface-txt2img-fictiverse-stable-diffusion-papercut-model', 'huggingface-txt2img-fictiverse-stable-diffusion-voxelart-model', 'huggingface-txt2img-haor-evt-v3', 'huggingface-txt2img-hassanblend-hassanblend1-4', 'huggingface-txt2img-idea-ccnl-taiyi-stable-diffusion-1b-chinese-en-v0-1', 'huggingface-txt2img-idea-ccnl-taiyi-stable-diffusion-1b-chinese-v0-1', 'huggingface-txt2img-ifansnek-johndiffusion', 'huggingface-txt2img-jersonm89-avatar', 'huggingface-txt2img-jvkape-iconsmi-appiconsmodelforsd', 'huggingface-txt2img-katakana-2d-mix', 'huggingface-txt2img-lacambre-vulvine-look-v02', 'huggingface-txt2img-langboat-guohua-diffusion', 'huggingface-txt2img-linaqruf-anything-v3-0', 'huggingface-txt2img-mikesmodels-waltz-with-bashir-diffusion', 'huggingface-txt2img-mitchtech-klingon-diffusion', 'huggingface-txt2img-mitchtech-vulcan-diffusion', 'huggingface-txt2img-mitsua-mitsua-diffusion-cc0', 'huggingface-txt2img-naclbit-trinart-stable-diffusion-v2', 'huggingface-txt2img-nitrosocke-arcane-diffusion', 'huggingface-txt2img-nitrosocke-archer-diffusion', 'huggingface-txt2img-nitrosocke-classic-anim-diffusion', 'huggingface-txt2img-nitrosocke-elden-ring-diffusion', 'huggingface-txt2img-nitrosocke-future-diffusion', 'huggingface-txt2img-nitrosocke-ghibli-diffusion', 'huggingface-txt2img-nitrosocke-mo-di-diffusion', 'huggingface-txt2img-nitrosocke-nitro-diffusion', 'huggingface-txt2img-nitrosocke-redshift-diffusion', 'huggingface-txt2img-nitrosocke-spider-verse-diffusion', 'huggingface-txt2img-nousr-robo-diffusion', 'huggingface-txt2img-ogkalu-comic-diffusion', 'huggingface-txt2img-openjourney-openjourney', 'huggingface-txt2img-piesposito-openpotionbottle-v2', 'huggingface-txt2img-plasmo-voxel-ish', 'huggingface-txt2img-plasmo-woolitize', 'huggingface-txt2img-progamergov-min-illust-background-diffusion', 'huggingface-txt2img-prompthero-linkedin-diffusion', 'huggingface-txt2img-prompthero-openjourney', 'huggingface-txt2img-qilex-magic-diffusion', 'huggingface-txt2img-rabidgremlin-sd-db-epic-space-machine', 'huggingface-txt2img-rayhell-popupbook-diffusion', 'huggingface-txt2img-runwayml-stable-diffusion-v1-5', 'huggingface-txt2img-s3nh-beksinski-style-stable-diffusion', 'huggingface-txt2img-sd-dreambooth-library-original-character-cyclps', 'huggingface-txt2img-sd-dreambooth-library-persona-5-shigenori-style', 'huggingface-txt2img-sd-dreambooth-library-seraphm', 'huggingface-txt2img-shirayu-sd-tohoku-v1', 'huggingface-txt2img-thelastben-hrrzg-style-768px', 'huggingface-txt2img-timothepearce-gina-the-cat', 'huggingface-txt2img-trystar-clonediffusion', 'huggingface-txt2img-tuwonga-dbluth', 'huggingface-txt2img-tuwonga-rotoscopee', 'huggingface-txt2img-volrath50-fantasy-card-diffusion', 'huggingface-txt2img-yayab-sd-onepiece-diffusers4', 'huggingface-zstc-cross-encoder-nli-deberta-base', 'huggingface-zstc-cross-encoder-nli-distilroberta-base', 'huggingface-zstc-cross-encoder-nli-minilm2-l6-h768', 'huggingface-zstc-cross-encoder-nli-roberta-base', 'huggingface-zstc-digitalepidemiologylab-covid-twitter-bert-v2-mnli', 'huggingface-zstc-eleldar-theme-classification', 'huggingface-zstc-emrecan-bert-base-multilingual-cased-allnli-tr', 'huggingface-zstc-emrecan-bert-base-multilingual-cased-multinli-tr', 'huggingface-zstc-emrecan-bert-base-multilingual-cased-snli-tr', 'huggingface-zstc-emrecan-bert-base-turkish-cased-allnli-tr', 'huggingface-zstc-emrecan-bert-base-turkish-cased-multinli-tr', 'huggingface-zstc-emrecan-bert-base-turkish-cased-snli-tr', 'huggingface-zstc-emrecan-convbert-base-turkish-mc4-cased-allnli-tr', 'huggingface-zstc-emrecan-convbert-base-turkish-mc4-cased-multinli-tr', 'huggingface-zstc-emrecan-convbert-base-turkish-mc4-cased-snli-tr', 'huggingface-zstc-emrecan-distilbert-base-turkish-cased-allnli-tr', 'huggingface-zstc-emrecan-distilbert-base-turkish-cased-multinli-tr', 'huggingface-zstc-emrecan-distilbert-base-turkish-cased-snli-tr', 'huggingface-zstc-facebook-bart-large-mnli', 'huggingface-zstc-jiva-xlm-roberta-large-it-mnli', 'huggingface-zstc-lighteternal-nli-xlm-r-greek', 'huggingface-zstc-moritzlaurer-deberta-v3-large-mnli-fever-anli-ling-wanli', 'huggingface-zstc-moritzlaurer-mdeberta-v3-base-xnli-multilingual-nli-2mil7', 'huggingface-zstc-narsil-bart-large-mnli-opti', 'huggingface-zstc-narsil-deberta-large-mnli-zero-cls', 'huggingface-zstc-navteca-bart-large-mnli', 'huggingface-zstc-recognai-bert-base-spanish-wwm-cased-xnli', 'huggingface-zstc-recognai-zeroshot-selectra-medium', 'huggingface-zstc-recognai-zeroshot-selectra-small', 'lightgbm-classification-model', 'lightgbm-regression-model', 'model-inpainting-runwayml-stable-diffusion-inpainting', 'model-inpainting-runwayml-stable-diffusion-inpainting-fp16', 'model-inpainting-stabilityai-stable-diffusion-2-inpainting', 'model-inpainting-stabilityai-stable-diffusion-2-inpainting-fp16', 'model-txt2img-stabilityai-stable-diffusion-v1-4', 'model-txt2img-stabilityai-stable-diffusion-v1-4-fp16', 'model-txt2img-stabilityai-stable-diffusion-v2', 'model-txt2img-stabilityai-stable-diffusion-v2-1-base', 'model-txt2img-stabilityai-stable-diffusion-v2-fp16', 'model-upscaling-stabilityai-stable-diffusion-x4-upscaler-fp16', 'mxnet-is-mask-rcnn-fpn-resnet101-v1d-coco', 'mxnet-is-mask-rcnn-fpn-resnet18-v1b-coco', 'mxnet-is-mask-rcnn-fpn-resnet50-v1b-coco', 'mxnet-is-mask-rcnn-resnet18-v1b-coco', 'mxnet-od-faster-rcnn-fpn-resnet101-v1d-coco', 'mxnet-od-faster-rcnn-fpn-resnet50-v1b-coco', 'mxnet-od-faster-rcnn-resnet101-v1d-coco', 'mxnet-od-faster-rcnn-resnet50-v1b-coco', 'mxnet-od-faster-rcnn-resnet50-v1b-voc', 'mxnet-od-ssd-300-vgg16-atrous-coco', 'mxnet-od-ssd-300-vgg16-atrous-voc', 'mxnet-od-ssd-512-mobilenet1-0-coco', 'mxnet-od-ssd-512-mobilenet1-0-voc', 'mxnet-od-ssd-512-resnet50-v1-coco', 'mxnet-od-ssd-512-resnet50-v1-voc', 'mxnet-od-ssd-512-vgg16-atrous-coco', 'mxnet-od-ssd-512-vgg16-atrous-voc', 'mxnet-od-yolo3-darknet53-coco', 'mxnet-od-yolo3-darknet53-voc', 'mxnet-od-yolo3-mobilenet1-0-coco', 'mxnet-od-yolo3-mobilenet1-0-voc', 'mxnet-semseg-fcn-resnet101-ade', 'mxnet-semseg-fcn-resnet101-coco', 'mxnet-semseg-fcn-resnet101-voc', 'mxnet-semseg-fcn-resnet50-ade', 'mxnet-tcembedding-robertafin-base-uncased', 'mxnet-tcembedding-robertafin-base-wiki-uncased', 'mxnet-tcembedding-robertafin-large-uncased', 'mxnet-tcembedding-robertafin-large-wiki-uncased', 'pytorch-eqa-bert-base-cased', 'pytorch-eqa-bert-base-multilingual-cased', 'pytorch-eqa-bert-base-multilingual-uncased', 'pytorch-eqa-bert-base-uncased', 'pytorch-eqa-bert-large-cased', 'pytorch-eqa-bert-large-cased-whole-word-masking', 'pytorch-eqa-bert-large-cased-whole-word-masking-finetuned-squad', 'pytorch-eqa-bert-large-uncased', 'pytorch-eqa-bert-large-uncased-whole-word-masking', 'pytorch-eqa-bert-large-uncased-whole-word-masking-finetuned-squad', 'pytorch-eqa-distilbert-base-cased', 'pytorch-eqa-distilbert-base-multilingual-cased', 'pytorch-eqa-distilbert-base-uncased', 'pytorch-eqa-distilroberta-base', 'pytorch-eqa-roberta-base', 'pytorch-eqa-roberta-base-openai-detector', 'pytorch-eqa-roberta-large', 'pytorch-eqa-roberta-large-openai-detector', 'pytorch-ic-alexnet', 'pytorch-ic-densenet121', 'pytorch-ic-densenet161', 'pytorch-ic-densenet169', 'pytorch-ic-densenet201', 'pytorch-ic-googlenet', 'pytorch-ic-mobilenet-v2', 'pytorch-ic-resnet101', 'pytorch-ic-resnet152', 'pytorch-ic-resnet18', 'pytorch-ic-resnet34', 'pytorch-ic-resnet50', 'pytorch-ic-resnext101-32x8d', 'pytorch-ic-resnext50-32x4d', 'pytorch-ic-shufflenet-v2-x1-0', 'pytorch-ic-squeezenet1-0', 'pytorch-ic-squeezenet1-1', 'pytorch-ic-vgg11', 'pytorch-ic-vgg11-bn', 'pytorch-ic-vgg13', 'pytorch-ic-vgg13-bn', 'pytorch-ic-vgg16', 'pytorch-ic-vgg16-bn', 'pytorch-ic-vgg19', 'pytorch-ic-vgg19-bn', 'pytorch-ic-wide-resnet101-2', 'pytorch-ic-wide-resnet50-2', 'pytorch-od-nvidia-ssd', 'pytorch-od1-fasterrcnn-mobilenet-v3-large-320-fpn', 'pytorch-od1-fasterrcnn-mobilenet-v3-large-fpn', 'pytorch-od1-fasterrcnn-resnet50-fpn', 'pytorch-tabtransformerclassification-model', 'pytorch-tabtransformerregression-model', 'pytorch-textgeneration1-alexa20b', 'sklearn-classification-linear', 'sklearn-regression-linear', 'tensorflow-audioembedding-frill-1', 'tensorflow-audioembedding-trill-3', 'tensorflow-audioembedding-trill-distilled-3', 'tensorflow-audioembedding-trillsson1-1', 'tensorflow-audioembedding-trillsson2-1', 'tensorflow-audioembedding-trillsson3-1', 'tensorflow-ic-bit-m-r101x1-ilsvrc2012-classification-1', 'tensorflow-ic-bit-m-r101x1-imagenet21k-classification-1', 'tensorflow-ic-bit-m-r101x3-ilsvrc2012-classification-1', 'tensorflow-ic-bit-m-r101x3-imagenet21k-classification-1', 'tensorflow-ic-bit-m-r152x4-ilsvrc2012', 'tensorflow-ic-bit-m-r152x4-imagenet21k', 'tensorflow-ic-bit-m-r50x1-ilsvrc2012-classification-1', 'tensorflow-ic-bit-m-r50x1-imagenet21k-classification-1', 'tensorflow-ic-bit-m-r50x3-ilsvrc2012-classification-1', 'tensorflow-ic-bit-m-r50x3-imagenet21k-classification-1', 'tensorflow-ic-bit-s-r101x1-ilsvrc2012-classification-1', 'tensorflow-ic-bit-s-r101x3-ilsvrc2012-classification-1', 'tensorflow-ic-bit-s-r152x4-ilsvrc2012', 'tensorflow-ic-bit-s-r50x1-ilsvrc2012-classification-1', 'tensorflow-ic-bit-s-r50x3-ilsvrc2012-classification-1', 'tensorflow-ic-cait-m36-384', 'tensorflow-ic-cait-m48-448', 'tensorflow-ic-cait-s24-224', 'tensorflow-ic-cait-s24-384', 'tensorflow-ic-cait-s36-384', 'tensorflow-ic-cait-xs24-384', 'tensorflow-ic-cait-xxs24-224', 'tensorflow-ic-cait-xxs24-384', 'tensorflow-ic-cait-xxs36-224', 'tensorflow-ic-cait-xxs36-384', 'tensorflow-ic-deit-base-distilled-patch16-224', 'tensorflow-ic-deit-base-distilled-patch16-384', 'tensorflow-ic-deit-base-patch16-224', 'tensorflow-ic-deit-base-patch16-384', 'tensorflow-ic-deit-small-distilled-patch16-224', 'tensorflow-ic-deit-small-patch16-224', 'tensorflow-ic-deit-tiny-distilled-patch16-224', 'tensorflow-ic-deit-tiny-patch16-224', 'tensorflow-ic-efficientnet-b0-classification-1', 'tensorflow-ic-efficientnet-b1-classification-1', 'tensorflow-ic-efficientnet-b2-classification-1', 'tensorflow-ic-efficientnet-b3-classification-1', 'tensorflow-ic-efficientnet-b4-classification-1', 'tensorflow-ic-efficientnet-b5-classification-1', 'tensorflow-ic-efficientnet-b6-classification-1', 'tensorflow-ic-efficientnet-b7-classification-1', 'tensorflow-ic-efficientnet-lite0-classification-2', 'tensorflow-ic-efficientnet-lite1-classification-2', 'tensorflow-ic-efficientnet-lite2-classification-2', 'tensorflow-ic-efficientnet-lite3-classification-2', 'tensorflow-ic-efficientnet-lite4-classification-2', 'tensorflow-ic-efficientnet-v2-imagenet1k-b0', 'tensorflow-ic-efficientnet-v2-imagenet1k-b1', 'tensorflow-ic-efficientnet-v2-imagenet1k-b2', 'tensorflow-ic-efficientnet-v2-imagenet1k-b3', 'tensorflow-ic-efficientnet-v2-imagenet1k-l', 'tensorflow-ic-efficientnet-v2-imagenet1k-m', 'tensorflow-ic-efficientnet-v2-imagenet1k-s', 'tensorflow-ic-efficientnet-v2-imagenet21k-b0', 'tensorflow-ic-efficientnet-v2-imagenet21k-b1', 'tensorflow-ic-efficientnet-v2-imagenet21k-b2', 'tensorflow-ic-efficientnet-v2-imagenet21k-b3', 'tensorflow-ic-efficientnet-v2-imagenet21k-ft1k-b0', 'tensorflow-ic-efficientnet-v2-imagenet21k-ft1k-b1', 'tensorflow-ic-efficientnet-v2-imagenet21k-ft1k-b2', 'tensorflow-ic-efficientnet-v2-imagenet21k-ft1k-b3', 'tensorflow-ic-efficientnet-v2-imagenet21k-ft1k-l', 'tensorflow-ic-efficientnet-v2-imagenet21k-ft1k-m', 'tensorflow-ic-efficientnet-v2-imagenet21k-ft1k-s', 'tensorflow-ic-efficientnet-v2-imagenet21k-ft1k-xl', 'tensorflow-ic-efficientnet-v2-imagenet21k-l', 'tensorflow-ic-efficientnet-v2-imagenet21k-m', 'tensorflow-ic-efficientnet-v2-imagenet21k-s', 'tensorflow-ic-efficientnet-v2-imagenet21k-xl', 'tensorflow-ic-imagenet-inception-resnet-v2-classification-4', 'tensorflow-ic-imagenet-inception-v1-classification-4', 'tensorflow-ic-imagenet-inception-v2-classification-4', 'tensorflow-ic-imagenet-inception-v3-classification-4', 'tensorflow-ic-imagenet-mobilenet-v1-025-128-classification-4', 'tensorflow-ic-imagenet-mobilenet-v1-025-160-classification-4', 'tensorflow-ic-imagenet-mobilenet-v1-025-192-classification-4', 'tensorflow-ic-imagenet-mobilenet-v1-025-224-classification-4', 'tensorflow-ic-imagenet-mobilenet-v1-050-128-classification-4', 'tensorflow-ic-imagenet-mobilenet-v1-050-160-classification-4', 'tensorflow-ic-imagenet-mobilenet-v1-050-192-classification-4', 'tensorflow-ic-imagenet-mobilenet-v1-050-224-classification-4', 'tensorflow-ic-imagenet-mobilenet-v1-075-128-classification-4', 'tensorflow-ic-imagenet-mobilenet-v1-075-160-classification-4', 'tensorflow-ic-imagenet-mobilenet-v1-075-192-classification-4', 'tensorflow-ic-imagenet-mobilenet-v1-075-224-classification-4', 'tensorflow-ic-imagenet-mobilenet-v1-100-128-classification-4', 'tensorflow-ic-imagenet-mobilenet-v1-100-160-classification-4', 'tensorflow-ic-imagenet-mobilenet-v1-100-192-classification-4', 'tensorflow-ic-imagenet-mobilenet-v1-100-224-classification-4', 'tensorflow-ic-imagenet-mobilenet-v2-035-128', 'tensorflow-ic-imagenet-mobilenet-v2-035-160', 'tensorflow-ic-imagenet-mobilenet-v2-035-192', 'tensorflow-ic-imagenet-mobilenet-v2-035-224-classification-4', 'tensorflow-ic-imagenet-mobilenet-v2-035-96', 'tensorflow-ic-imagenet-mobilenet-v2-050-128', 'tensorflow-ic-imagenet-mobilenet-v2-050-160', 'tensorflow-ic-imagenet-mobilenet-v2-050-192', 'tensorflow-ic-imagenet-mobilenet-v2-050-224-classification-4', 'tensorflow-ic-imagenet-mobilenet-v2-050-96', 'tensorflow-ic-imagenet-mobilenet-v2-075-128', 'tensorflow-ic-imagenet-mobilenet-v2-075-160', 'tensorflow-ic-imagenet-mobilenet-v2-075-192', 'tensorflow-ic-imagenet-mobilenet-v2-075-224-classification-4', 'tensorflow-ic-imagenet-mobilenet-v2-075-96', 'tensorflow-ic-imagenet-mobilenet-v2-100-160', 'tensorflow-ic-imagenet-mobilenet-v2-100-192', 'tensorflow-ic-imagenet-mobilenet-v2-100-224-classification-4', 'tensorflow-ic-imagenet-mobilenet-v2-100-96', 'tensorflow-ic-imagenet-mobilenet-v2-130-224-classification-4', 'tensorflow-ic-imagenet-mobilenet-v2-140-224-classification-4', 'tensorflow-ic-imagenet-mobilenet-v3-large-075-224', 'tensorflow-ic-imagenet-mobilenet-v3-large-100-224', 'tensorflow-ic-imagenet-mobilenet-v3-small-075-224', 'tensorflow-ic-imagenet-mobilenet-v3-small-100-224', 'tensorflow-ic-imagenet-nasnet-large', 'tensorflow-ic-imagenet-nasnet-mobile', 'tensorflow-ic-imagenet-pnasnet-large', 'tensorflow-ic-imagenet-resnet-v1-101-classification-4', 'tensorflow-ic-imagenet-resnet-v1-152-classification-4', 'tensorflow-ic-imagenet-resnet-v1-50-classification-4', 'tensorflow-ic-imagenet-resnet-v2-101-classification-4', 'tensorflow-ic-imagenet-resnet-v2-152-classification-4', 'tensorflow-ic-imagenet-resnet-v2-50-classification-4', 'tensorflow-ic-resnet-50-classification-1', 'tensorflow-ic-swin-base-patch4-window12-384', 'tensorflow-ic-swin-base-patch4-window7-224', 'tensorflow-ic-swin-large-patch4-window12-384', 'tensorflow-ic-swin-large-patch4-window7-224', 'tensorflow-ic-swin-s3-base-224', 'tensorflow-ic-swin-s3-small-224', 'tensorflow-ic-swin-s3-tiny-224', 'tensorflow-ic-swin-small-patch4-window7-224', 'tensorflow-ic-swin-tiny-patch4-window7-224', 'tensorflow-ic-tf2-preview-inception-v3-classification-4', 'tensorflow-ic-tf2-preview-mobilenet-v2-classification-4', 'tensorflow-icembedding-bit-m-r101x1-ilsvrc2012-featurevector-1', 'tensorflow-icembedding-bit-m-r101x3-imagenet21k-featurevector-1', 'tensorflow-icembedding-bit-m-r50x1-ilsvrc2012-featurevector-1', 'tensorflow-icembedding-bit-m-r50x3-imagenet21k-featurevector-1', 'tensorflow-icembedding-bit-s-r101x1-ilsvrc2012-featurevector-1', 'tensorflow-icembedding-bit-s-r101x3-ilsvrc2012-featurevector-1', 'tensorflow-icembedding-bit-s-r50x1-ilsvrc2012-featurevector-1', 'tensorflow-icembedding-bit-s-r50x3-ilsvrc2012-featurevector-1', 'tensorflow-icembedding-efficientnet-b0-featurevector-1', 'tensorflow-icembedding-efficientnet-b1-featurevector-1', 'tensorflow-icembedding-efficientnet-b2-featurevector-1', 'tensorflow-icembedding-efficientnet-b3-featurevector-1', 'tensorflow-icembedding-efficientnet-b6-featurevector-1', 'tensorflow-icembedding-efficientnet-lite0-featurevector-2', 'tensorflow-icembedding-efficientnet-lite1-featurevector-2', 'tensorflow-icembedding-efficientnet-lite2-featurevector-2', 'tensorflow-icembedding-efficientnet-lite3-featurevector-2', 'tensorflow-icembedding-efficientnet-lite4-featurevector-2', 'tensorflow-icembedding-imagenet-inception-v1-featurevector-4', 'tensorflow-icembedding-imagenet-inception-v2-featurevector-4', 'tensorflow-icembedding-imagenet-inception-v3-featurevector-4', 'tensorflow-icembedding-imagenet-mobilenet-v1-025-128-featurevector-4', 'tensorflow-icembedding-imagenet-mobilenet-v1-025-160-featurevector-4', 'tensorflow-icembedding-imagenet-mobilenet-v1-025-192-featurevector-4', 'tensorflow-icembedding-imagenet-mobilenet-v1-025-224-featurevector-4', 'tensorflow-icembedding-imagenet-mobilenet-v1-050-128-featurevector-4', 'tensorflow-icembedding-imagenet-mobilenet-v1-050-160-featurevector-4', 'tensorflow-icembedding-imagenet-mobilenet-v1-050-192-featurevector-4', 'tensorflow-icembedding-imagenet-mobilenet-v1-050-224-featurevector-4', 'tensorflow-icembedding-imagenet-mobilenet-v1-075-128-featurevector-4', 'tensorflow-icembedding-imagenet-mobilenet-v1-075-160-featurevector-4', 'tensorflow-icembedding-imagenet-mobilenet-v1-075-192-featurevector-4', 'tensorflow-icembedding-imagenet-mobilenet-v1-075-224-featurevector-4', 'tensorflow-icembedding-imagenet-mobilenet-v1-100-128-featurevector-4', 'tensorflow-icembedding-imagenet-mobilenet-v1-100-160-featurevector-4', 'tensorflow-icembedding-imagenet-mobilenet-v1-100-192-featurevector-4', 'tensorflow-icembedding-imagenet-mobilenet-v1-100-224-featurevector-4', 'tensorflow-icembedding-imagenet-mobilenet-v2-035-224-featurevector-4', 'tensorflow-icembedding-imagenet-mobilenet-v2-050-224-featurevector-4', 'tensorflow-icembedding-imagenet-mobilenet-v2-075-224-featurevector-4', 'tensorflow-icembedding-imagenet-mobilenet-v2-100-224-featurevector-4', 'tensorflow-icembedding-imagenet-mobilenet-v2-130-224-featurevector-4', 'tensorflow-icembedding-imagenet-mobilenet-v2-140-224-featurevector-4', 'tensorflow-icembedding-imagenet-resnet-v1-101-featurevector-4', 'tensorflow-icembedding-imagenet-resnet-v1-152-featurevector-4', 'tensorflow-icembedding-imagenet-resnet-v1-50-featurevector-4', 'tensorflow-icembedding-imagenet-resnet-v2-101-featurevector-4', 'tensorflow-icembedding-imagenet-resnet-v2-152-featurevector-4', 'tensorflow-icembedding-imagenet-resnet-v2-50-featurevector-4', 'tensorflow-icembedding-resnet-50-featurevector-1', 'tensorflow-icembedding-tf2-preview-inception-v3-featurevector-4', 'tensorflow-icembedding-tf2-preview-mobilenet-v2-featurevector-4', 'tensorflow-od-centernet-hourglass-1024x1024-1', 'tensorflow-od-centernet-hourglass-1024x1024-kpts-1', 'tensorflow-od-centernet-hourglass-512x512-1', 'tensorflow-od-centernet-hourglass-512x512-kpts-1', 'tensorflow-od-centernet-resnet101v1-fpn-512x512-1', 'tensorflow-od-centernet-resnet50v1-fpn-512x512-1', 'tensorflow-od-centernet-resnet50v1-fpn-512x512-kpts-1', 'tensorflow-od-centernet-resnet50v2-512x512-1', 'tensorflow-od-centernet-resnet50v2-512x512-kpts-1', 'tensorflow-od-efficientdet-d0-1', 'tensorflow-od-efficientdet-d1-1', 'tensorflow-od-efficientdet-d2-1', 'tensorflow-od-efficientdet-d3-1', 'tensorflow-od-efficientdet-d4-1', 'tensorflow-od-efficientdet-d5-1', 'tensorflow-od-faster-rcnn-inception-resnet-v2-1024x1024-1', 'tensorflow-od-faster-rcnn-inception-resnet-v2-640x640-1', 'tensorflow-od-faster-rcnn-resnet101-v1-1024x1024-1', 'tensorflow-od-faster-rcnn-resnet101-v1-640x640-1', 'tensorflow-od-faster-rcnn-resnet101-v1-800x1333-1', 'tensorflow-od-faster-rcnn-resnet152-v1-1024x1024-1', 'tensorflow-od-faster-rcnn-resnet152-v1-640x640-1', 'tensorflow-od-faster-rcnn-resnet152-v1-800x1333-1', 'tensorflow-od-faster-rcnn-resnet50-v1-1024x1024-1', 'tensorflow-od-faster-rcnn-resnet50-v1-640x640-1', 'tensorflow-od-faster-rcnn-resnet50-v1-800x1333-1', 'tensorflow-od-retinanet-resnet101-v1-fpn-1024x1024-1', 'tensorflow-od-retinanet-resnet101-v1-fpn-640x640-1', 'tensorflow-od-retinanet-resnet152-v1-fpn-1024x1024-1', 'tensorflow-od-retinanet-resnet152-v1-fpn-640x640-1', 'tensorflow-od-retinanet-resnet50-v1-fpn-1024x1024-1', 'tensorflow-od-retinanet-resnet50-v1-fpn-640x640-1', 'tensorflow-od-ssd-mobilenet-v1-fpn-640x640-1', 'tensorflow-od-ssd-mobilenet-v2-2', 'tensorflow-od-ssd-mobilenet-v2-fpnlite-320x320-1', 'tensorflow-od-ssd-mobilenet-v2-fpnlite-640x640-1', 'tensorflow-od1-ssd-efficientdet-d0-512x512-coco17-tpu-8', 'tensorflow-od1-ssd-efficientdet-d1-640x640-coco17-tpu-8', 'tensorflow-od1-ssd-efficientdet-d2-768x768-coco17-tpu-8', 'tensorflow-od1-ssd-efficientdet-d3-896x896-coco17-tpu-32', 'tensorflow-od1-ssd-mobilenet-v1-fpn-640x640-coco17-tpu-8', 'tensorflow-od1-ssd-mobilenet-v2-fpnlite-320x320-coco17-tpu-8', 'tensorflow-od1-ssd-mobilenet-v2-fpnlite-640x640-coco17-tpu-8', 'tensorflow-od1-ssd-resnet101-v1-fpn-1024x1024-coco17-tpu-8', 'tensorflow-od1-ssd-resnet101-v1-fpn-640x640-coco17-tpu-8', 'tensorflow-od1-ssd-resnet152-v1-fpn-1024x1024-coco17-tpu-8', 'tensorflow-od1-ssd-resnet152-v1-fpn-640x640-coco17-tpu-8', 'tensorflow-od1-ssd-resnet50-v1-fpn-1024x1024-coco17-tpu-8', 'tensorflow-od1-ssd-resnet50-v1-fpn-640x640-coco17-tpu-8', 'tensorflow-spc-bert-en-cased-L-12-H-768-A-12-2', 'tensorflow-spc-bert-en-uncased-L-12-H-768-A-12-2', 'tensorflow-spc-bert-en-uncased-L-24-H-1024-A-16-2', 'tensorflow-spc-bert-en-wwm-cased-L-24-H-1024-A-16-2', 'tensorflow-spc-bert-en-wwm-uncased-L-24-H-1024-A-16-2', 'tensorflow-spc-bert-multi-cased-L-12-H-768-A-12-2', 'tensorflow-spc-electra-base-1', 'tensorflow-spc-electra-small-1', 'tensorflow-spc-experts-bert-pubmed-1', 'tensorflow-spc-experts-bert-wiki-books-1', 'tensorflow-tc-albert-en-base', 'tensorflow-tc-bert-en-cased-L-12-H-768-A-12-2', 'tensorflow-tc-bert-en-cased-L-24-H-1024-A-16-2', 'tensorflow-tc-bert-en-uncased-L-12-H-768-A-12-2', 'tensorflow-tc-bert-en-uncased-L-24-H-1024-A-16-2', 'tensorflow-tc-bert-en-wwm-cased-L-24-H-1024-A-16-2', 'tensorflow-tc-bert-en-wwm-uncased-L-24-H-1024-A-16-2', 'tensorflow-tc-bert-multi-cased-L-12-H-768-A-12-2', 'tensorflow-tc-electra-base-1', 'tensorflow-tc-electra-small-1', 'tensorflow-tc-experts-bert-pubmed-1', 'tensorflow-tc-experts-bert-wiki-books-1', 'tensorflow-tc-small-bert-bert-en-uncased-L-10-H-128-A-2', 'tensorflow-tc-small-bert-bert-en-uncased-L-10-H-256-A-4', 'tensorflow-tc-small-bert-bert-en-uncased-L-10-H-512-A-8', 'tensorflow-tc-small-bert-bert-en-uncased-L-10-H-768-A-12', 'tensorflow-tc-small-bert-bert-en-uncased-L-12-H-128-A-2', 'tensorflow-tc-small-bert-bert-en-uncased-L-12-H-256-A-4', 'tensorflow-tc-small-bert-bert-en-uncased-L-12-H-512-A-8', 'tensorflow-tc-small-bert-bert-en-uncased-L-12-H-768-A-12', 'tensorflow-tc-small-bert-bert-en-uncased-L-2-H-128-A-2', 'tensorflow-tc-small-bert-bert-en-uncased-L-2-H-256-A-4', 'tensorflow-tc-small-bert-bert-en-uncased-L-2-H-512-A-8', 'tensorflow-tc-small-bert-bert-en-uncased-L-2-H-768-A-12', 'tensorflow-tc-small-bert-bert-en-uncased-L-4-H-128-A-2', 'tensorflow-tc-small-bert-bert-en-uncased-L-4-H-256-A-4', 'tensorflow-tc-small-bert-bert-en-uncased-L-4-H-512-A-8', 'tensorflow-tc-small-bert-bert-en-uncased-L-4-H-768-A-12', 'tensorflow-tc-small-bert-bert-en-uncased-L-6-H-128-A-2', 'tensorflow-tc-small-bert-bert-en-uncased-L-6-H-256-A-4', 'tensorflow-tc-small-bert-bert-en-uncased-L-6-H-512-A-8', 'tensorflow-tc-small-bert-bert-en-uncased-L-6-H-768-A-12', 'tensorflow-tc-small-bert-bert-en-uncased-L-8-H-128-A-2', 'tensorflow-tc-small-bert-bert-en-uncased-L-8-H-256-A-4', 'tensorflow-tc-small-bert-bert-en-uncased-L-8-H-512-A-8', 'tensorflow-tc-small-bert-bert-en-uncased-L-8-H-768-A-12', 'tensorflow-tc-talking-heads-base', 'tensorflow-tc-talking-heads-large', 'tensorflow-tcembedding-bert-en-uncased-L-10-H-128-A-2-2', 'tensorflow-tcembedding-bert-en-uncased-L-10-H-256-A-4-2', 'tensorflow-tcembedding-bert-en-uncased-L-10-H-512-A-8-2', 'tensorflow-tcembedding-bert-en-uncased-L-10-H-768-A-12-2', 'tensorflow-tcembedding-bert-en-uncased-L-12-H-128-A-2-2', 'tensorflow-tcembedding-bert-en-uncased-L-12-H-256-A-4', 'tensorflow-tcembedding-bert-en-uncased-L-12-H-512-A-8-2', 'tensorflow-tcembedding-bert-en-uncased-L-12-H-768-A-12-2', 'tensorflow-tcembedding-bert-en-uncased-L-12-H-768-A-12-4', 'tensorflow-tcembedding-bert-en-uncased-L-2-H-128-A-2-2', 'tensorflow-tcembedding-bert-en-uncased-L-2-H-256-A-4', 'tensorflow-tcembedding-bert-en-uncased-L-2-H-512-A-8-2', 'tensorflow-tcembedding-bert-en-uncased-L-2-H-768-A-12-2', 'tensorflow-tcembedding-bert-en-uncased-L-4-H-128-A-2-2', 'tensorflow-tcembedding-bert-en-uncased-L-4-H-256-A-4-2', 'tensorflow-tcembedding-bert-en-uncased-L-4-H-512-A-8-2', 'tensorflow-tcembedding-bert-en-uncased-L-4-H-768-A-12-2', 'tensorflow-tcembedding-bert-en-uncased-L-6-H-128-A-2-2', 'tensorflow-tcembedding-bert-en-uncased-L-6-H-256-A-4', 'tensorflow-tcembedding-bert-en-uncased-L-6-H-512-A-8-2', 'tensorflow-tcembedding-bert-en-uncased-L-6-H-768-A-12-2', 'tensorflow-tcembedding-bert-en-uncased-L-8-H-256-A-4-2', 'tensorflow-tcembedding-bert-en-uncased-L-8-H-512-A-8-2', 'tensorflow-tcembedding-bert-en-uncased-L-8-H-768-A-12-2', 'tensorflow-tcembedding-bert-wiki-books-mnli-2', 'tensorflow-tcembedding-bert-wiki-books-sst2', 'tensorflow-tcembedding-talkheads-ggelu-bert-en-base-2', 'tensorflow-tcembedding-talkheads-ggelu-bert-en-large-2', 'tensorflow-tcembedding-universal-sentence-encoder-cmlm-en-base-1', 'tensorflow-tcembedding-universal-sentence-encoder-cmlm-en-large-1', 'xgboost-classification-model', 'xgboost-regression-model']\n"
     ]
    }
   ],
   "source": [
    "# List of available pretrained models at: https://sagemaker.readthedocs.io/en/stable/doc_utils/pretrainedmodels.html"
   ]
  },
  {
   "cell_type": "code",
   "execution_count": 7,
   "id": "652b2d4f",
   "metadata": {
    "jumpStartAlterations": [
     "modelIdVersion"
    ],
    "tags": []
   },
   "outputs": [],
   "source": [
    "model_id, model_version = (\n",
    "    \"huggingface-text2text-flan-t5-xl\",\n",
    "    \"*\",\n",
    ")\n",
    "inference_instance_type = \"ml.g5.2xlarge\"\n",
    "endpoint_name = f\"KC-ShinrAI-{model_id}\""
   ]
  },
  {
   "cell_type": "markdown",
   "id": "0b08aa4a",
   "metadata": {
    "tags": []
   },
   "source": [
    "# 3. Retrieve Artifacts & Deploy an Endpoint\n",
    "\n",
    "***\n",
    "\n",
    "Using SageMaker, we can perform inference on the pre-trained model, even without fine-tuning it first on a new dataset. We start by retrieving the `deploy_image_uri`, `deploy_source_uri`, and `model_uri` for the pre-trained model. To host the pre-trained model, we create an instance of [`sagemaker.model.Model`](https://sagemaker.readthedocs.io/en/stable/api/inference/model.html) and deploy it. This may take a few minutes.\n",
    "\n",
    "***"
   ]
  },
  {
   "cell_type": "code",
   "execution_count": 18,
   "id": "3dc692aa-1d98-421b-8c63-4d01511d846a",
   "metadata": {
    "tags": []
   },
   "outputs": [
    {
     "ename": "KeyError",
     "evalue": "\"Unable to find model manifest for 'https://huggingface.co/Babelscape/rebel-large' with version '*'. Visit https://sagemaker.readthedocs.io/en/stable/doc_utils/pretrainedmodels.html for updated list of models. Did you mean to use model ID 'huggingface-tc-roberta-large'?\"",
     "output_type": "error",
     "traceback": [
      "\u001b[0;31m---------------------------------------------------------------------------\u001b[0m",
      "\u001b[0;31mKeyError\u001b[0m                                  Traceback (most recent call last)",
      "\u001b[0;32m/tmp/ipykernel_22910/3545586634.py\u001b[0m in \u001b[0;36m<cell line: 1>\u001b[0;34m()\u001b[0m\n\u001b[0;32m----> 1\u001b[0;31m deploy_source_uri = script_uris.retrieve(\n\u001b[0m\u001b[1;32m      2\u001b[0m     \u001b[0mmodel_id\u001b[0m\u001b[0;34m=\u001b[0m\u001b[0;34m\"https://huggingface.co/Babelscape/rebel-large\"\u001b[0m\u001b[0;34m,\u001b[0m \u001b[0mmodel_version\u001b[0m\u001b[0;34m=\u001b[0m\u001b[0;34m\"*\"\u001b[0m\u001b[0;34m,\u001b[0m \u001b[0mscript_scope\u001b[0m\u001b[0;34m=\u001b[0m\u001b[0;34m\"inference\"\u001b[0m\u001b[0;34m\u001b[0m\u001b[0;34m\u001b[0m\u001b[0m\n\u001b[1;32m      3\u001b[0m )\n",
      "\u001b[0;32m~/anaconda3/envs/pytorch_p39/lib/python3.9/site-packages/sagemaker/script_uris.py\u001b[0m in \u001b[0;36mretrieve\u001b[0;34m(region, model_id, model_version, script_scope, tolerate_vulnerable_model, tolerate_deprecated_model)\u001b[0m\n\u001b[1;32m     61\u001b[0m         \u001b[0;32mraise\u001b[0m \u001b[0mValueError\u001b[0m\u001b[0;34m(\u001b[0m\u001b[0;34m\"Must specify `model_id` and `model_version` when retrieving script URIs.\"\u001b[0m\u001b[0;34m)\u001b[0m\u001b[0;34m\u001b[0m\u001b[0;34m\u001b[0m\u001b[0m\n\u001b[1;32m     62\u001b[0m \u001b[0;34m\u001b[0m\u001b[0m\n\u001b[0;32m---> 63\u001b[0;31m     return artifacts._retrieve_script_uri(\n\u001b[0m\u001b[1;32m     64\u001b[0m         \u001b[0mmodel_id\u001b[0m\u001b[0;34m,\u001b[0m\u001b[0;34m\u001b[0m\u001b[0;34m\u001b[0m\u001b[0m\n\u001b[1;32m     65\u001b[0m         \u001b[0mmodel_version\u001b[0m\u001b[0;34m,\u001b[0m\u001b[0;34m\u001b[0m\u001b[0;34m\u001b[0m\u001b[0m\n",
      "\u001b[0;32m~/anaconda3/envs/pytorch_p39/lib/python3.9/site-packages/sagemaker/jumpstart/artifacts.py\u001b[0m in \u001b[0;36m_retrieve_script_uri\u001b[0;34m(model_id, model_version, script_scope, region, tolerate_vulnerable_model, tolerate_deprecated_model)\u001b[0m\n\u001b[1;32m    283\u001b[0m         \u001b[0mregion\u001b[0m \u001b[0;34m=\u001b[0m \u001b[0mJUMPSTART_DEFAULT_REGION_NAME\u001b[0m\u001b[0;34m\u001b[0m\u001b[0;34m\u001b[0m\u001b[0m\n\u001b[1;32m    284\u001b[0m \u001b[0;34m\u001b[0m\u001b[0m\n\u001b[0;32m--> 285\u001b[0;31m     model_specs = verify_model_region_and_return_specs(\n\u001b[0m\u001b[1;32m    286\u001b[0m         \u001b[0mmodel_id\u001b[0m\u001b[0;34m=\u001b[0m\u001b[0mmodel_id\u001b[0m\u001b[0;34m,\u001b[0m\u001b[0;34m\u001b[0m\u001b[0;34m\u001b[0m\u001b[0m\n\u001b[1;32m    287\u001b[0m         \u001b[0mversion\u001b[0m\u001b[0;34m=\u001b[0m\u001b[0mmodel_version\u001b[0m\u001b[0;34m,\u001b[0m\u001b[0;34m\u001b[0m\u001b[0;34m\u001b[0m\u001b[0m\n",
      "\u001b[0;32m~/anaconda3/envs/pytorch_p39/lib/python3.9/site-packages/sagemaker/jumpstart/utils.py\u001b[0m in \u001b[0;36mverify_model_region_and_return_specs\u001b[0;34m(model_id, version, scope, region, tolerate_vulnerable_model, tolerate_deprecated_model)\u001b[0m\n\u001b[1;32m    379\u001b[0m         )\n\u001b[1;32m    380\u001b[0m \u001b[0;34m\u001b[0m\u001b[0m\n\u001b[0;32m--> 381\u001b[0;31m     model_specs = accessors.JumpStartModelsAccessor.get_model_specs(\n\u001b[0m\u001b[1;32m    382\u001b[0m         \u001b[0mregion\u001b[0m\u001b[0;34m=\u001b[0m\u001b[0mregion\u001b[0m\u001b[0;34m,\u001b[0m \u001b[0mmodel_id\u001b[0m\u001b[0;34m=\u001b[0m\u001b[0mmodel_id\u001b[0m\u001b[0;34m,\u001b[0m \u001b[0mversion\u001b[0m\u001b[0;34m=\u001b[0m\u001b[0mversion\u001b[0m  \u001b[0;31m# type: ignore\u001b[0m\u001b[0;34m\u001b[0m\u001b[0;34m\u001b[0m\u001b[0m\n\u001b[1;32m    383\u001b[0m     )\n",
      "\u001b[0;32m~/anaconda3/envs/pytorch_p39/lib/python3.9/site-packages/sagemaker/jumpstart/accessors.py\u001b[0m in \u001b[0;36mget_model_specs\u001b[0;34m(region, model_id, version)\u001b[0m\n\u001b[1;32m    127\u001b[0m         )\n\u001b[1;32m    128\u001b[0m         \u001b[0mJumpStartModelsAccessor\u001b[0m\u001b[0;34m.\u001b[0m\u001b[0m_set_cache_and_region\u001b[0m\u001b[0;34m(\u001b[0m\u001b[0mregion\u001b[0m\u001b[0;34m,\u001b[0m \u001b[0mcache_kwargs\u001b[0m\u001b[0;34m)\u001b[0m\u001b[0;34m\u001b[0m\u001b[0;34m\u001b[0m\u001b[0m\n\u001b[0;32m--> 129\u001b[0;31m         return JumpStartModelsAccessor._cache.get_specs(  # type: ignore\n\u001b[0m\u001b[1;32m    130\u001b[0m             \u001b[0mmodel_id\u001b[0m\u001b[0;34m=\u001b[0m\u001b[0mmodel_id\u001b[0m\u001b[0;34m,\u001b[0m \u001b[0msemantic_version_str\u001b[0m\u001b[0;34m=\u001b[0m\u001b[0mversion\u001b[0m\u001b[0;34m\u001b[0m\u001b[0;34m\u001b[0m\u001b[0m\n\u001b[1;32m    131\u001b[0m         )\n",
      "\u001b[0;32m~/anaconda3/envs/pytorch_p39/lib/python3.9/site-packages/sagemaker/jumpstart/cache.py\u001b[0m in \u001b[0;36mget_specs\u001b[0;34m(self, model_id, semantic_version_str)\u001b[0m\n\u001b[1;32m    422\u001b[0m         \"\"\"\n\u001b[1;32m    423\u001b[0m \u001b[0;34m\u001b[0m\u001b[0m\n\u001b[0;32m--> 424\u001b[0;31m         \u001b[0mheader\u001b[0m \u001b[0;34m=\u001b[0m \u001b[0mself\u001b[0m\u001b[0;34m.\u001b[0m\u001b[0mget_header\u001b[0m\u001b[0;34m(\u001b[0m\u001b[0mmodel_id\u001b[0m\u001b[0;34m,\u001b[0m \u001b[0msemantic_version_str\u001b[0m\u001b[0;34m)\u001b[0m\u001b[0;34m\u001b[0m\u001b[0;34m\u001b[0m\u001b[0m\n\u001b[0m\u001b[1;32m    425\u001b[0m         \u001b[0mspec_key\u001b[0m \u001b[0;34m=\u001b[0m \u001b[0mheader\u001b[0m\u001b[0;34m.\u001b[0m\u001b[0mspec_key\u001b[0m\u001b[0;34m\u001b[0m\u001b[0;34m\u001b[0m\u001b[0m\n\u001b[1;32m    426\u001b[0m         specs = self._s3_cache.get(\n",
      "\u001b[0;32m~/anaconda3/envs/pytorch_p39/lib/python3.9/site-packages/sagemaker/jumpstart/cache.py\u001b[0m in \u001b[0;36mget_header\u001b[0;34m(self, model_id, semantic_version_str)\u001b[0m\n\u001b[1;32m    353\u001b[0m         \"\"\"\n\u001b[1;32m    354\u001b[0m \u001b[0;34m\u001b[0m\u001b[0m\n\u001b[0;32m--> 355\u001b[0;31m         \u001b[0;32mreturn\u001b[0m \u001b[0mself\u001b[0m\u001b[0;34m.\u001b[0m\u001b[0m_get_header_impl\u001b[0m\u001b[0;34m(\u001b[0m\u001b[0mmodel_id\u001b[0m\u001b[0;34m,\u001b[0m \u001b[0msemantic_version_str\u001b[0m\u001b[0;34m=\u001b[0m\u001b[0msemantic_version_str\u001b[0m\u001b[0;34m)\u001b[0m\u001b[0;34m\u001b[0m\u001b[0;34m\u001b[0m\u001b[0m\n\u001b[0m\u001b[1;32m    356\u001b[0m \u001b[0;34m\u001b[0m\u001b[0m\n\u001b[1;32m    357\u001b[0m     def _select_version(\n",
      "\u001b[0;32m~/anaconda3/envs/pytorch_p39/lib/python3.9/site-packages/sagemaker/jumpstart/cache.py\u001b[0m in \u001b[0;36m_get_header_impl\u001b[0;34m(self, model_id, semantic_version_str, attempt)\u001b[0m\n\u001b[1;32m    398\u001b[0m         \"\"\"\n\u001b[1;32m    399\u001b[0m \u001b[0;34m\u001b[0m\u001b[0m\n\u001b[0;32m--> 400\u001b[0;31m         versioned_model_id = self._model_id_semantic_version_manifest_key_cache.get(\n\u001b[0m\u001b[1;32m    401\u001b[0m             \u001b[0mJumpStartVersionedModelId\u001b[0m\u001b[0;34m(\u001b[0m\u001b[0mmodel_id\u001b[0m\u001b[0;34m,\u001b[0m \u001b[0msemantic_version_str\u001b[0m\u001b[0;34m)\u001b[0m\u001b[0;34m\u001b[0m\u001b[0;34m\u001b[0m\u001b[0m\n\u001b[1;32m    402\u001b[0m         )\n",
      "\u001b[0;32m~/anaconda3/envs/pytorch_p39/lib/python3.9/site-packages/sagemaker/utilities/cache.py\u001b[0m in \u001b[0;36mget\u001b[0;34m(self, key, data_source_fallback)\u001b[0m\n\u001b[1;32m    101\u001b[0m             \u001b[0;32mif\u001b[0m \u001b[0mkey\u001b[0m \u001b[0;32min\u001b[0m \u001b[0mself\u001b[0m\u001b[0;34m.\u001b[0m\u001b[0m_lru_cache\u001b[0m\u001b[0;34m:\u001b[0m\u001b[0;34m\u001b[0m\u001b[0;34m\u001b[0m\u001b[0m\n\u001b[1;32m    102\u001b[0m                 \u001b[0;32mreturn\u001b[0m \u001b[0mself\u001b[0m\u001b[0;34m.\u001b[0m\u001b[0m_get_item\u001b[0m\u001b[0;34m(\u001b[0m\u001b[0mkey\u001b[0m\u001b[0;34m,\u001b[0m \u001b[0;32mFalse\u001b[0m\u001b[0;34m)\u001b[0m\u001b[0;34m\u001b[0m\u001b[0;34m\u001b[0m\u001b[0m\n\u001b[0;32m--> 103\u001b[0;31m             \u001b[0mself\u001b[0m\u001b[0;34m.\u001b[0m\u001b[0mput\u001b[0m\u001b[0;34m(\u001b[0m\u001b[0mkey\u001b[0m\u001b[0;34m)\u001b[0m\u001b[0;34m\u001b[0m\u001b[0;34m\u001b[0m\u001b[0m\n\u001b[0m\u001b[1;32m    104\u001b[0m             \u001b[0;32mreturn\u001b[0m \u001b[0mself\u001b[0m\u001b[0;34m.\u001b[0m\u001b[0m_get_item\u001b[0m\u001b[0;34m(\u001b[0m\u001b[0mkey\u001b[0m\u001b[0;34m,\u001b[0m \u001b[0;32mFalse\u001b[0m\u001b[0;34m)\u001b[0m\u001b[0;34m\u001b[0m\u001b[0;34m\u001b[0m\u001b[0m\n\u001b[1;32m    105\u001b[0m         \u001b[0;32mreturn\u001b[0m \u001b[0mself\u001b[0m\u001b[0;34m.\u001b[0m\u001b[0m_get_item\u001b[0m\u001b[0;34m(\u001b[0m\u001b[0mkey\u001b[0m\u001b[0;34m,\u001b[0m \u001b[0;32mTrue\u001b[0m\u001b[0;34m)\u001b[0m\u001b[0;34m\u001b[0m\u001b[0;34m\u001b[0m\u001b[0m\n",
      "\u001b[0;32m~/anaconda3/envs/pytorch_p39/lib/python3.9/site-packages/sagemaker/utilities/cache.py\u001b[0m in \u001b[0;36mput\u001b[0;34m(self, key, value)\u001b[0m\n\u001b[1;32m    124\u001b[0m \u001b[0;34m\u001b[0m\u001b[0m\n\u001b[1;32m    125\u001b[0m         \u001b[0;32mif\u001b[0m \u001b[0mvalue\u001b[0m \u001b[0;32mis\u001b[0m \u001b[0;32mNone\u001b[0m\u001b[0;34m:\u001b[0m\u001b[0;34m\u001b[0m\u001b[0;34m\u001b[0m\u001b[0m\n\u001b[0;32m--> 126\u001b[0;31m             value = self._retrieval_function(  # type: ignore\n\u001b[0m\u001b[1;32m    127\u001b[0m                 \u001b[0mkey\u001b[0m\u001b[0;34m=\u001b[0m\u001b[0mkey\u001b[0m\u001b[0;34m,\u001b[0m \u001b[0mvalue\u001b[0m\u001b[0;34m=\u001b[0m\u001b[0mcurr_value\u001b[0m\u001b[0;34m.\u001b[0m\u001b[0melement\u001b[0m \u001b[0;32mif\u001b[0m \u001b[0mcurr_value\u001b[0m \u001b[0;32melse\u001b[0m \u001b[0;32mNone\u001b[0m\u001b[0;34m\u001b[0m\u001b[0;34m\u001b[0m\u001b[0m\n\u001b[1;32m    128\u001b[0m             )\n",
      "\u001b[0;32m~/anaconda3/envs/pytorch_p39/lib/python3.9/site-packages/sagemaker/jumpstart/cache.py\u001b[0m in \u001b[0;36m_get_manifest_key_from_model_id_semantic_version\u001b[0;34m(self, key, value)\u001b[0m\n\u001b[1;32m    237\u001b[0m             \u001b[0merror_msg\u001b[0m \u001b[0;34m+=\u001b[0m \u001b[0;34mf\"Did you mean to use model ID '{closest_model_id}'?\"\u001b[0m\u001b[0;34m\u001b[0m\u001b[0;34m\u001b[0m\u001b[0m\n\u001b[1;32m    238\u001b[0m \u001b[0;34m\u001b[0m\u001b[0m\n\u001b[0;32m--> 239\u001b[0;31m         \u001b[0;32mraise\u001b[0m \u001b[0mKeyError\u001b[0m\u001b[0;34m(\u001b[0m\u001b[0merror_msg\u001b[0m\u001b[0;34m)\u001b[0m\u001b[0;34m\u001b[0m\u001b[0;34m\u001b[0m\u001b[0m\n\u001b[0m\u001b[1;32m    240\u001b[0m \u001b[0;34m\u001b[0m\u001b[0m\n\u001b[1;32m    241\u001b[0m     \u001b[0;32mdef\u001b[0m \u001b[0m_get_json_file_and_etag_from_s3\u001b[0m\u001b[0;34m(\u001b[0m\u001b[0mself\u001b[0m\u001b[0;34m,\u001b[0m \u001b[0mkey\u001b[0m\u001b[0;34m:\u001b[0m \u001b[0mstr\u001b[0m\u001b[0;34m)\u001b[0m \u001b[0;34m->\u001b[0m \u001b[0mTuple\u001b[0m\u001b[0;34m[\u001b[0m\u001b[0mUnion\u001b[0m\u001b[0;34m[\u001b[0m\u001b[0mdict\u001b[0m\u001b[0;34m,\u001b[0m \u001b[0mlist\u001b[0m\u001b[0;34m]\u001b[0m\u001b[0;34m,\u001b[0m \u001b[0mstr\u001b[0m\u001b[0;34m]\u001b[0m\u001b[0;34m:\u001b[0m\u001b[0;34m\u001b[0m\u001b[0;34m\u001b[0m\u001b[0m\n",
      "\u001b[0;31mKeyError\u001b[0m: \"Unable to find model manifest for 'https://huggingface.co/Babelscape/rebel-large' with version '*'. Visit https://sagemaker.readthedocs.io/en/stable/doc_utils/pretrainedmodels.html for updated list of models. Did you mean to use model ID 'huggingface-tc-roberta-large'?\""
     ]
    }
   ],
   "source": [
    "deploy_source_uri = script_uris.retrieve(\n",
    "    model_id=\"https://huggingface.co/Babelscape/rebel-large\", model_version=\"*\", script_scope=\"inference\"\n",
    ")"
   ]
  },
  {
   "cell_type": "code",
   "execution_count": null,
   "id": "114e24fd-fb53-46f8-af3a-84bac6ec9073",
   "metadata": {
    "tags": []
   },
   "outputs": [],
   "source": [
    "from transformers import AutoModelForSeq2SeqLM, AutoTokenizer\n",
    "\n",
    "model = AutoModelForSeq2SeqLM.from_pretrained(\"Babelscape/rebel-large\")\n"
   ]
  },
  {
   "cell_type": "code",
   "execution_count": 9,
   "id": "631ae768",
   "metadata": {
    "tags": []
   },
   "outputs": [
    {
     "name": "stdout",
     "output_type": "stream",
     "text": [
      "------------!"
     ]
    }
   ],
   "source": [
    "from sagemaker import image_uris, model_uris, script_uris, hyperparameters\n",
    "from sagemaker.model import Model\n",
    "from sagemaker.predictor import Predictor\n",
    "from sagemaker.utils import name_from_base\n",
    "\n",
    "\n",
    "# Retrieve the inference docker container uri. This is the base HuggingFace container image for the default model above.\n",
    "deploy_image_uri = image_uris.retrieve(\n",
    "    region=None,\n",
    "    framework=None,  # automatically inferred from model_id\n",
    "    image_scope=\"inference\",\n",
    "    model_id=model_id,\n",
    "    model_version=model_version,\n",
    "    instance_type=inference_instance_type,\n",
    ")\n",
    "\n",
    "# Retrieve the inference script uri. This includes all dependencies and scripts for model loading, inference handling etc.\n",
    "deploy_source_uri = script_uris.retrieve(\n",
    "    model_id=model_id, model_version=model_version, script_scope=\"inference\"\n",
    ")\n",
    "\n",
    "# Retrieve the model uri.\n",
    "model_uri = model_uris.retrieve(\n",
    "    model_id=model_id, model_version=model_version, model_scope=\"inference\"\n",
    ")\n",
    "\n",
    "# Create the SageMaker model instance\n",
    "# For those large models, we already repack the inference script and model\n",
    "# artifacts for you, so the `source_dir` argument to Model is not required.\n",
    "model = Model(\n",
    "    image_uri=deploy_image_uri,\n",
    "    model_data=model_uri,\n",
    "    role=aws_role,\n",
    "    predictor_cls=Predictor,\n",
    "    name=endpoint_name\n",
    ")\n",
    "    \n",
    "\n",
    "# deploy the Model. Note that we need to pass Predictor class when we deploy model through Model class,\n",
    "# for being able to run inference through the sagemaker API.\n",
    "model_predictor = model.deploy(\n",
    "    initial_instance_count=1,\n",
    "    instance_type=inference_instance_type,\n",
    "    predictor_cls=Predictor,\n",
    "    endpoint_name=endpoint_name,\n",
    ")"
   ]
  },
  {
   "cell_type": "markdown",
   "id": "aa5de21f",
   "metadata": {},
   "source": [
    "# 4. Clean up the endpoint"
   ]
  },
  {
   "cell_type": "code",
   "execution_count": 11,
   "id": "69b588d1",
   "metadata": {
    "tags": []
   },
   "outputs": [],
   "source": [
    "# Delete the SageMaker endpoint\n",
    "model_predictor.delete_model()\n",
    "model_predictor.delete_endpoint()"
   ]
  }
 ],
 "metadata": {
  "availableInstances": [
   {
    "_defaultOrder": 0,
    "_isFastLaunch": true,
    "category": "General purpose",
    "gpuNum": 0,
    "memoryGiB": 4,
    "name": "ml.t3.medium",
    "vcpuNum": 2
   },
   {
    "_defaultOrder": 1,
    "_isFastLaunch": false,
    "category": "General purpose",
    "gpuNum": 0,
    "memoryGiB": 8,
    "name": "ml.t3.large",
    "vcpuNum": 2
   },
   {
    "_defaultOrder": 2,
    "_isFastLaunch": false,
    "category": "General purpose",
    "gpuNum": 0,
    "memoryGiB": 16,
    "name": "ml.t3.xlarge",
    "vcpuNum": 4
   },
   {
    "_defaultOrder": 3,
    "_isFastLaunch": false,
    "category": "General purpose",
    "gpuNum": 0,
    "memoryGiB": 32,
    "name": "ml.t3.2xlarge",
    "vcpuNum": 8
   },
   {
    "_defaultOrder": 4,
    "_isFastLaunch": true,
    "category": "General purpose",
    "gpuNum": 0,
    "memoryGiB": 8,
    "name": "ml.m5.large",
    "vcpuNum": 2
   },
   {
    "_defaultOrder": 5,
    "_isFastLaunch": false,
    "category": "General purpose",
    "gpuNum": 0,
    "memoryGiB": 16,
    "name": "ml.m5.xlarge",
    "vcpuNum": 4
   },
   {
    "_defaultOrder": 6,
    "_isFastLaunch": false,
    "category": "General purpose",
    "gpuNum": 0,
    "memoryGiB": 32,
    "name": "ml.m5.2xlarge",
    "vcpuNum": 8
   },
   {
    "_defaultOrder": 7,
    "_isFastLaunch": false,
    "category": "General purpose",
    "gpuNum": 0,
    "memoryGiB": 64,
    "name": "ml.m5.4xlarge",
    "vcpuNum": 16
   },
   {
    "_defaultOrder": 8,
    "_isFastLaunch": false,
    "category": "General purpose",
    "gpuNum": 0,
    "memoryGiB": 128,
    "name": "ml.m5.8xlarge",
    "vcpuNum": 32
   },
   {
    "_defaultOrder": 9,
    "_isFastLaunch": false,
    "category": "General purpose",
    "gpuNum": 0,
    "memoryGiB": 192,
    "name": "ml.m5.12xlarge",
    "vcpuNum": 48
   },
   {
    "_defaultOrder": 10,
    "_isFastLaunch": false,
    "category": "General purpose",
    "gpuNum": 0,
    "memoryGiB": 256,
    "name": "ml.m5.16xlarge",
    "vcpuNum": 64
   },
   {
    "_defaultOrder": 11,
    "_isFastLaunch": false,
    "category": "General purpose",
    "gpuNum": 0,
    "memoryGiB": 384,
    "name": "ml.m5.24xlarge",
    "vcpuNum": 96
   },
   {
    "_defaultOrder": 12,
    "_isFastLaunch": false,
    "category": "General purpose",
    "gpuNum": 0,
    "memoryGiB": 8,
    "name": "ml.m5d.large",
    "vcpuNum": 2
   },
   {
    "_defaultOrder": 13,
    "_isFastLaunch": false,
    "category": "General purpose",
    "gpuNum": 0,
    "memoryGiB": 16,
    "name": "ml.m5d.xlarge",
    "vcpuNum": 4
   },
   {
    "_defaultOrder": 14,
    "_isFastLaunch": false,
    "category": "General purpose",
    "gpuNum": 0,
    "memoryGiB": 32,
    "name": "ml.m5d.2xlarge",
    "vcpuNum": 8
   },
   {
    "_defaultOrder": 15,
    "_isFastLaunch": false,
    "category": "General purpose",
    "gpuNum": 0,
    "memoryGiB": 64,
    "name": "ml.m5d.4xlarge",
    "vcpuNum": 16
   },
   {
    "_defaultOrder": 16,
    "_isFastLaunch": false,
    "category": "General purpose",
    "gpuNum": 0,
    "memoryGiB": 128,
    "name": "ml.m5d.8xlarge",
    "vcpuNum": 32
   },
   {
    "_defaultOrder": 17,
    "_isFastLaunch": false,
    "category": "General purpose",
    "gpuNum": 0,
    "memoryGiB": 192,
    "name": "ml.m5d.12xlarge",
    "vcpuNum": 48
   },
   {
    "_defaultOrder": 18,
    "_isFastLaunch": false,
    "category": "General purpose",
    "gpuNum": 0,
    "memoryGiB": 256,
    "name": "ml.m5d.16xlarge",
    "vcpuNum": 64
   },
   {
    "_defaultOrder": 19,
    "_isFastLaunch": false,
    "category": "General purpose",
    "gpuNum": 0,
    "memoryGiB": 384,
    "name": "ml.m5d.24xlarge",
    "vcpuNum": 96
   },
   {
    "_defaultOrder": 20,
    "_isFastLaunch": true,
    "category": "Compute optimized",
    "gpuNum": 0,
    "memoryGiB": 4,
    "name": "ml.c5.large",
    "vcpuNum": 2
   },
   {
    "_defaultOrder": 21,
    "_isFastLaunch": false,
    "category": "Compute optimized",
    "gpuNum": 0,
    "memoryGiB": 8,
    "name": "ml.c5.xlarge",
    "vcpuNum": 4
   },
   {
    "_defaultOrder": 22,
    "_isFastLaunch": false,
    "category": "Compute optimized",
    "gpuNum": 0,
    "memoryGiB": 16,
    "name": "ml.c5.2xlarge",
    "vcpuNum": 8
   },
   {
    "_defaultOrder": 23,
    "_isFastLaunch": false,
    "category": "Compute optimized",
    "gpuNum": 0,
    "memoryGiB": 32,
    "name": "ml.c5.4xlarge",
    "vcpuNum": 16
   },
   {
    "_defaultOrder": 24,
    "_isFastLaunch": false,
    "category": "Compute optimized",
    "gpuNum": 0,
    "memoryGiB": 72,
    "name": "ml.c5.9xlarge",
    "vcpuNum": 36
   },
   {
    "_defaultOrder": 25,
    "_isFastLaunch": false,
    "category": "Compute optimized",
    "gpuNum": 0,
    "memoryGiB": 96,
    "name": "ml.c5.12xlarge",
    "vcpuNum": 48
   },
   {
    "_defaultOrder": 26,
    "_isFastLaunch": false,
    "category": "Compute optimized",
    "gpuNum": 0,
    "memoryGiB": 144,
    "name": "ml.c5.18xlarge",
    "vcpuNum": 72
   },
   {
    "_defaultOrder": 27,
    "_isFastLaunch": false,
    "category": "Compute optimized",
    "gpuNum": 0,
    "memoryGiB": 192,
    "name": "ml.c5.24xlarge",
    "vcpuNum": 96
   },
   {
    "_defaultOrder": 28,
    "_isFastLaunch": true,
    "category": "Accelerated computing",
    "gpuNum": 1,
    "memoryGiB": 16,
    "name": "ml.g4dn.xlarge",
    "vcpuNum": 4
   },
   {
    "_defaultOrder": 29,
    "_isFastLaunch": false,
    "category": "Accelerated computing",
    "gpuNum": 1,
    "memoryGiB": 32,
    "name": "ml.g4dn.2xlarge",
    "vcpuNum": 8
   },
   {
    "_defaultOrder": 30,
    "_isFastLaunch": false,
    "category": "Accelerated computing",
    "gpuNum": 1,
    "memoryGiB": 64,
    "name": "ml.g4dn.4xlarge",
    "vcpuNum": 16
   },
   {
    "_defaultOrder": 31,
    "_isFastLaunch": false,
    "category": "Accelerated computing",
    "gpuNum": 1,
    "memoryGiB": 128,
    "name": "ml.g4dn.8xlarge",
    "vcpuNum": 32
   },
   {
    "_defaultOrder": 32,
    "_isFastLaunch": false,
    "category": "Accelerated computing",
    "gpuNum": 4,
    "memoryGiB": 192,
    "name": "ml.g4dn.12xlarge",
    "vcpuNum": 48
   },
   {
    "_defaultOrder": 33,
    "_isFastLaunch": false,
    "category": "Accelerated computing",
    "gpuNum": 1,
    "memoryGiB": 256,
    "name": "ml.g4dn.16xlarge",
    "vcpuNum": 64
   },
   {
    "_defaultOrder": 34,
    "_isFastLaunch": false,
    "category": "Accelerated computing",
    "gpuNum": 1,
    "memoryGiB": 61,
    "name": "ml.p3.2xlarge",
    "vcpuNum": 8
   },
   {
    "_defaultOrder": 35,
    "_isFastLaunch": false,
    "category": "Accelerated computing",
    "gpuNum": 4,
    "memoryGiB": 244,
    "name": "ml.p3.8xlarge",
    "vcpuNum": 32
   },
   {
    "_defaultOrder": 36,
    "_isFastLaunch": false,
    "category": "Accelerated computing",
    "gpuNum": 8,
    "memoryGiB": 488,
    "name": "ml.p3.16xlarge",
    "vcpuNum": 64
   },
   {
    "_defaultOrder": 37,
    "_isFastLaunch": false,
    "category": "Accelerated computing",
    "gpuNum": 8,
    "memoryGiB": 768,
    "name": "ml.p3dn.24xlarge",
    "vcpuNum": 96
   },
   {
    "_defaultOrder": 38,
    "_isFastLaunch": false,
    "category": "Memory Optimized",
    "gpuNum": 0,
    "memoryGiB": 16,
    "name": "ml.r5.large",
    "vcpuNum": 2
   },
   {
    "_defaultOrder": 39,
    "_isFastLaunch": false,
    "category": "Memory Optimized",
    "gpuNum": 0,
    "memoryGiB": 32,
    "name": "ml.r5.xlarge",
    "vcpuNum": 4
   },
   {
    "_defaultOrder": 40,
    "_isFastLaunch": false,
    "category": "Memory Optimized",
    "gpuNum": 0,
    "memoryGiB": 64,
    "name": "ml.r5.2xlarge",
    "vcpuNum": 8
   },
   {
    "_defaultOrder": 41,
    "_isFastLaunch": false,
    "category": "Memory Optimized",
    "gpuNum": 0,
    "memoryGiB": 128,
    "name": "ml.r5.4xlarge",
    "vcpuNum": 16
   },
   {
    "_defaultOrder": 42,
    "_isFastLaunch": false,
    "category": "Memory Optimized",
    "gpuNum": 0,
    "memoryGiB": 256,
    "name": "ml.r5.8xlarge",
    "vcpuNum": 32
   },
   {
    "_defaultOrder": 43,
    "_isFastLaunch": false,
    "category": "Memory Optimized",
    "gpuNum": 0,
    "memoryGiB": 384,
    "name": "ml.r5.12xlarge",
    "vcpuNum": 48
   },
   {
    "_defaultOrder": 44,
    "_isFastLaunch": false,
    "category": "Memory Optimized",
    "gpuNum": 0,
    "memoryGiB": 512,
    "name": "ml.r5.16xlarge",
    "vcpuNum": 64
   },
   {
    "_defaultOrder": 45,
    "_isFastLaunch": false,
    "category": "Memory Optimized",
    "gpuNum": 0,
    "memoryGiB": 768,
    "name": "ml.r5.24xlarge",
    "vcpuNum": 96
   },
   {
    "_defaultOrder": 46,
    "_isFastLaunch": false,
    "category": "Accelerated computing",
    "gpuNum": 1,
    "memoryGiB": 16,
    "name": "ml.g5.xlarge",
    "vcpuNum": 4
   },
   {
    "_defaultOrder": 47,
    "_isFastLaunch": false,
    "category": "Accelerated computing",
    "gpuNum": 1,
    "memoryGiB": 32,
    "name": "ml.g5.2xlarge",
    "vcpuNum": 8
   },
   {
    "_defaultOrder": 48,
    "_isFastLaunch": false,
    "category": "Accelerated computing",
    "gpuNum": 1,
    "memoryGiB": 64,
    "name": "ml.g5.4xlarge",
    "vcpuNum": 16
   },
   {
    "_defaultOrder": 49,
    "_isFastLaunch": false,
    "category": "Accelerated computing",
    "gpuNum": 1,
    "memoryGiB": 128,
    "name": "ml.g5.8xlarge",
    "vcpuNum": 32
   },
   {
    "_defaultOrder": 50,
    "_isFastLaunch": false,
    "category": "Accelerated computing",
    "gpuNum": 1,
    "memoryGiB": 256,
    "name": "ml.g5.16xlarge",
    "vcpuNum": 64
   },
   {
    "_defaultOrder": 51,
    "_isFastLaunch": false,
    "category": "Accelerated computing",
    "gpuNum": 4,
    "memoryGiB": 192,
    "name": "ml.g5.12xlarge",
    "vcpuNum": 48
   },
   {
    "_defaultOrder": 52,
    "_isFastLaunch": false,
    "category": "Accelerated computing",
    "gpuNum": 4,
    "memoryGiB": 384,
    "name": "ml.g5.24xlarge",
    "vcpuNum": 96
   },
   {
    "_defaultOrder": 53,
    "_isFastLaunch": false,
    "category": "Accelerated computing",
    "gpuNum": 8,
    "memoryGiB": 768,
    "name": "ml.g5.48xlarge",
    "vcpuNum": 192
   }
  ],
  "instance_type": "ml.t3.medium",
  "kernelspec": {
   "display_name": "conda_amazonei_pytorch_latest_p37",
   "language": "python",
   "name": "conda_amazonei_pytorch_latest_p37"
  },
  "language_info": {
   "codemirror_mode": {
    "name": "ipython",
    "version": 3
   },
   "file_extension": ".py",
   "mimetype": "text/x-python",
   "name": "python",
   "nbconvert_exporter": "python",
   "pygments_lexer": "ipython3",
   "version": "3.7.10"
  }
 },
 "nbformat": 4,
 "nbformat_minor": 5
}
